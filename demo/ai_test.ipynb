{
 "cells": [
  {
   "cell_type": "code",
   "execution_count": 1,
   "metadata": {},
   "outputs": [],
   "source": [
    "import os\n",
    "import sys\n",
    "from pathlib import Path\n",
    "\n",
    "sys.path.append(str((Path(os.path.abspath(\"\")) / \"..\").resolve()))\n",
    "from sudoku_variants import Sudoku, SudokuAI, SudokuConst\n",
    "from sudoku_variants.rule import Orthogonal, SubBoard, Knight, King"
   ]
  },
  {
   "cell_type": "code",
   "execution_count": 2,
   "metadata": {},
   "outputs": [
    {
     "name": "stdout",
     "output_type": "stream",
     "text": [
      "Applied rules: Orthogonal, SubBoard, Knight, King\n",
      "+-------+-------+-------+\n",
      "| * * * | * * * | * * * |\n",
      "| * * * | * * * | * * * |\n",
      "| * * * | * * * | * * * |\n",
      "+-------+-------+-------+\n",
      "| * * * | * * * | * * * |\n",
      "| * * * | * * * | * * * |\n",
      "| * * * | * * * | * * * |\n",
      "+-------+-------+-------+\n",
      "| * * * | * * * | * * * |\n",
      "| * * * | * * * | * * * |\n",
      "| * * * | * * * | * * * |\n",
      "+-------+-------+-------+\n"
     ]
    }
   ],
   "source": [
    "board = [[0 for _ in range(SudokuConst.NUM_COL)] for _ in range(SudokuConst.NUM_ROW)]\n",
    "rules = [Orthogonal(), SubBoard(), Knight(), King()]\n",
    "empty_sudoku = Sudoku(board, rules)\n",
    "print(empty_sudoku)"
   ]
  },
  {
   "cell_type": "code",
   "execution_count": 3,
   "metadata": {},
   "outputs": [
    {
     "name": "stdout",
     "output_type": "stream",
     "text": [
      "Applied rules: Orthogonal, SubBoard, Knight, King\n",
      "+-------+-------+-------+\n",
      "| 2 3 4 | 9 7 1 | 6 8 5 |\n",
      "| 9 7 1 | 6 8 5 | 2 3 4 |\n",
      "| 6 8 5 | 2 3 4 | 9 7 1 |\n",
      "+-------+-------+-------+\n",
      "| 3 4 9 | 7 1 6 | 8 5 2 |\n",
      "| 7 1 6 | 8 5 2 | 3 4 9 |\n",
      "| 8 5 2 | 3 4 9 | 7 1 6 |\n",
      "+-------+-------+-------+\n",
      "| 4 9 7 | 1 6 8 | 5 2 3 |\n",
      "| 1 6 8 | 5 2 3 | 4 9 7 |\n",
      "| 5 2 3 | 4 9 7 | 1 6 8 |\n",
      "+-------+-------+-------+\n",
      "True\n"
     ]
    }
   ],
   "source": [
    "solved_sudoku = SudokuAI.solve(empty_sudoku, seed=3)\n",
    "print(solved_sudoku)\n",
    "if solved_sudoku is not None:\n",
    "    print(solved_sudoku.check_board())"
   ]
  },
  {
   "cell_type": "code",
   "execution_count": 4,
   "metadata": {},
   "outputs": [
    {
     "name": "stdout",
     "output_type": "stream",
     "text": [
      "Applied rules: Orthogonal, SubBoard\n",
      "+-------+-------+-------+\n",
      "| * 1 * | * 2 * | 7 6 * |\n",
      "| 9 6 7 | 4 * * | * 8 2 |\n",
      "| * * 8 | 9 6 * | 5 * 1 |\n",
      "+-------+-------+-------+\n",
      "| * 8 4 | 5 * * | * * * |\n",
      "| 7 * * | * 9 * | * * 5 |\n",
      "| * 9 * | 7 3 * | * 1 * |\n",
      "+-------+-------+-------+\n",
      "| * 5 9 | 1 * * | 8 3 4 |\n",
      "| * 4 * | 3 8 9 | 2 * * |\n",
      "| * * 3 | 2 4 * | 1 9 * |\n",
      "+-------+-------+-------+\n"
     ]
    }
   ],
   "source": [
    "sudoku = SudokuAI.generate([Orthogonal(), SubBoard()], max_erased=40, seed=2)\n",
    "print(sudoku)"
   ]
  },
  {
   "cell_type": "code",
   "execution_count": 5,
   "metadata": {},
   "outputs": [
    {
     "name": "stdout",
     "output_type": "stream",
     "text": [
      "Applied rules: Orthogonal, SubBoard, Knight\n",
      "+-------+-------+-------+\n",
      "| * 6 * | * 9 4 | 7 2 8 |\n",
      "| 1 7 * | * 8 6 | 4 * 3 |\n",
      "| 4 * 9 | 2 7 3 | * * 6 |\n",
      "+-------+-------+-------+\n",
      "| 6 3 * | * 2 * | 5 8 * |\n",
      "| * * * | * * * | * 3 * |\n",
      "| 8 9 5 | 4 * * | * * 7 |\n",
      "+-------+-------+-------+\n",
      "| * 1 * | * * 2 | * 7 5 |\n",
      "| * * 7 | 6 5 * | * * 9 |\n",
      "| * 5 * | 9 * * | 6 4 * |\n",
      "+-------+-------+-------+\n"
     ]
    }
   ],
   "source": [
    "sudoku = SudokuAI.generate([Orthogonal(), SubBoard(), Knight()], max_erased=40)\n",
    "print(sudoku)"
   ]
  },
  {
   "cell_type": "code",
   "execution_count": 6,
   "metadata": {},
   "outputs": [
    {
     "name": "stdout",
     "output_type": "stream",
     "text": [
      "Applied rules: Orthogonal, SubBoard, King\n",
      "+-------+-------+-------+\n",
      "| 4 7 * | * 6 9 | 3 * 8 |\n",
      "| 3 * 6 | * 5 1 | 2 * * |\n",
      "| * * * | 4 3 7 | 9 1 6 |\n",
      "+-------+-------+-------+\n",
      "| 7 6 * | * * 2 | * 8 * |\n",
      "| 1 4 * | * 7 * | 5 * * |\n",
      "| 2 * * | 3 9 * | * * 1 |\n",
      "+-------+-------+-------+\n",
      "| * * 7 | * 2 * | 8 9 4 |\n",
      "| * 1 * | * * 3 | 7 6 * |\n",
      "| * * * | 7 4 * | * 3 * |\n",
      "+-------+-------+-------+\n"
     ]
    }
   ],
   "source": [
    "sudoku = SudokuAI.generate([Orthogonal(), SubBoard(), King()], max_erased=40)\n",
    "print(sudoku)"
   ]
  },
  {
   "cell_type": "code",
   "execution_count": 7,
   "metadata": {},
   "outputs": [
    {
     "name": "stdout",
     "output_type": "stream",
     "text": [
      "Applied rules: Orthogonal, SubBoard, King, Knight\n",
      "+-------+-------+-------+\n",
      "| 1 6 9 | 8 2 4 | 5 3 7 |\n",
      "| * * 7 | 1 6 9 | * * 4 |\n",
      "| * * * | * * 7 | * * * |\n",
      "+-------+-------+-------+\n",
      "| * * * | * * * | 4 5 * |\n",
      "| * 5 3 | 7 * * | * * * |\n",
      "| * 8 * | 4 * 3 | * * 6 |\n",
      "+-------+-------+-------+\n",
      "| * * * | * * * | 2 4 * |\n",
      "| 2 * 5 | 3 * * | * * * |\n",
      "| * * * | * * * | * 7 1 |\n",
      "+-------+-------+-------+\n"
     ]
    }
   ],
   "source": [
    "sudoku = SudokuAI.generate([Orthogonal(), SubBoard(), King(), Knight()], max_erased=50)\n",
    "print(sudoku)"
   ]
  }
 ],
 "metadata": {
  "kernelspec": {
   "display_name": ".venv",
   "language": "python",
   "name": "python3"
  },
  "language_info": {
   "codemirror_mode": {
    "name": "ipython",
    "version": 3
   },
   "file_extension": ".py",
   "mimetype": "text/x-python",
   "name": "python",
   "nbconvert_exporter": "python",
   "pygments_lexer": "ipython3",
   "version": "3.7.9"
  }
 },
 "nbformat": 4,
 "nbformat_minor": 2
}
