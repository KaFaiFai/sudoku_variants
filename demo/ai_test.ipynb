{
 "cells": [
  {
   "cell_type": "code",
   "execution_count": 9,
   "metadata": {},
   "outputs": [],
   "source": [
    "import os\n",
    "import sys\n",
    "from pathlib import Path\n",
    "\n",
    "sys.path.append(str((Path(os.path.abspath(\"\")) / \"..\").resolve()))\n",
    "from sudoku_variants import Sudoku, SudokuAI, const\n",
    "from sudoku_variants.rule import Orthogonal, SubBoard, Knight, King, Consecutive, Jigsaw"
   ]
  },
  {
   "cell_type": "code",
   "execution_count": 10,
   "metadata": {},
   "outputs": [
    {
     "name": "stdout",
     "output_type": "stream",
     "text": [
      "Rules: Orthogonal, SubBoard, Knight, King\n",
      "+-------+-------+-------+\n",
      "| * * * | * * * | * * * |\n",
      "| * * * | * * * | * * * |\n",
      "| * * * | * * * | * * * |\n",
      "+-------+-------+-------+\n",
      "| * * * | * * * | * * * |\n",
      "| * * * | * * * | * * * |\n",
      "| * * * | * * * | * * * |\n",
      "+-------+-------+-------+\n",
      "| * * * | * * * | * * * |\n",
      "| * * * | * * * | * * * |\n",
      "| * * * | * * * | * * * |\n",
      "+-------+-------+-------+\n"
     ]
    }
   ],
   "source": [
    "board = [[0 for _ in range(const.NUM_COL)] for _ in range(const.NUM_ROW)]\n",
    "rules = [Orthogonal(), SubBoard(), Knight(), King()]\n",
    "empty_sudoku = Sudoku(board, rules)\n",
    "print(empty_sudoku)"
   ]
  },
  {
   "cell_type": "code",
   "execution_count": 11,
   "metadata": {},
   "outputs": [
    {
     "name": "stdout",
     "output_type": "stream",
     "text": [
      "Rules: Orthogonal, SubBoard, Knight, King\n",
      "+-------+-------+-------+\n",
      "| 2 3 4 | 9 7 1 | 6 8 5 |\n",
      "| 9 7 1 | 6 8 5 | 3 4 2 |\n",
      "| 6 8 5 | 3 4 2 | 7 1 9 |\n",
      "+-------+-------+-------+\n",
      "| 3 4 2 | 7 1 9 | 8 5 6 |\n",
      "| 7 1 9 | 8 5 6 | 4 2 3 |\n",
      "| 8 5 6 | 4 2 3 | 1 9 7 |\n",
      "+-------+-------+-------+\n",
      "| 4 2 3 | 1 9 7 | 5 6 8 |\n",
      "| 1 9 7 | 5 6 8 | 2 3 4 |\n",
      "| 5 6 8 | 2 3 4 | 9 7 1 |\n",
      "+-------+-------+-------+\n",
      "True\n",
      "[[2, 3, 4, 9, 7, 1, 6, 8, 5], [9, 7, 1, 6, 8, 5, 3, 4, 2], [6, 8, 5, 3, 4, 2, 7, 1, 9], [3, 4, 2, 7, 1, 9, 8, 5, 6], [7, 1, 9, 8, 5, 6, 4, 2, 3], [8, 5, 6, 4, 2, 3, 1, 9, 7], [4, 2, 3, 1, 9, 7, 5, 6, 8], [1, 9, 7, 5, 6, 8, 2, 3, 4], [5, 6, 8, 2, 3, 4, 9, 7, 1]]\n"
     ]
    }
   ],
   "source": [
    "solved_sudoku = SudokuAI.solve(empty_sudoku, seed=3)\n",
    "print(solved_sudoku)\n",
    "if solved_sudoku is not None:\n",
    "    print(solved_sudoku.check_board())\n",
    "    print(solved_sudoku.board)"
   ]
  },
  {
   "cell_type": "code",
   "execution_count": 12,
   "metadata": {},
   "outputs": [
    {
     "name": "stdout",
     "output_type": "stream",
     "text": [
      "Rules: Orthogonal, SubBoard, Orthogonal, SubBoard\n",
      "+-------+-------+-------+\n",
      "| * * * | * 2 * | * 6 * |\n",
      "| * 6 7 | * * 1 | 3 * * |\n",
      "| * * 8 | 9 * 7 | * * * |\n",
      "+-------+-------+-------+\n",
      "| * * * | * * 2 | * 7 3 |\n",
      "| * * * | 6 9 * | * * * |\n",
      "| * 9 2 | * * 4 | * 1 * |\n",
      "+-------+-------+-------+\n",
      "| * 5 9 | * 7 * | * * * |\n",
      "| * 4 6 | * * * | * 5 * |\n",
      "| 8 * * | * * * | 1 * * |\n",
      "+-------+-------+-------+\n"
     ]
    }
   ],
   "source": [
    "sudoku = SudokuAI.generate([Orthogonal(), SubBoard()], max_erased=60, seed=2)\n",
    "print(sudoku)"
   ]
  },
  {
   "cell_type": "code",
   "execution_count": 13,
   "metadata": {},
   "outputs": [
    {
     "name": "stdout",
     "output_type": "stream",
     "text": [
      "Rules: Orthogonal, SubBoard, Orthogonal, SubBoard, Knight\n",
      "+-------+-------+-------+\n",
      "| 1 * * | * 5 8 | 2 3 * |\n",
      "| 8 3 2 | 7 * 6 | 4 5 * |\n",
      "| * * 5 | 2 3 * | 7 8 9 |\n",
      "+-------+-------+-------+\n",
      "| 9 5 * | * * * | 1 2 * |\n",
      "| 2 * * | * 8 9 | 5 4 * |\n",
      "| 3 * * | * * 5 | * * 7 |\n",
      "+-------+-------+-------+\n",
      "| * * * | * 1 * | * 7 * |\n",
      "| * 2 9 | * 7 * | * * * |\n",
      "| 7 * 3 | 5 6 * | 8 * 4 |\n",
      "+-------+-------+-------+\n"
     ]
    }
   ],
   "source": [
    "sudoku = SudokuAI.generate([Orthogonal(), SubBoard(), Knight()], max_erased=40)\n",
    "print(sudoku)"
   ]
  },
  {
   "cell_type": "code",
   "execution_count": 14,
   "metadata": {},
   "outputs": [
    {
     "name": "stdout",
     "output_type": "stream",
     "text": [
      "Rules: Orthogonal, SubBoard, Orthogonal, SubBoard, King\n",
      "+-------+-------+-------+\n",
      "| * 8 4 | 5 * * | * 7 9 |\n",
      "| * 6 9 | 8 2 * | * 5 3 |\n",
      "| 3 * * | 7 4 9 | * * * |\n",
      "+-------+-------+-------+\n",
      "| 6 * 8 | 9 1 * | 5 * * |\n",
      "| * 2 * | 3 5 4 | 6 * 7 |\n",
      "| 4 * * | * 8 * | * 2 1 |\n",
      "+-------+-------+-------+\n",
      "| * 1 7 | * 9 * | * * * |\n",
      "| 5 4 * | 1 6 8 | * * * |\n",
      "| * * * | 2 7 * | * * 5 |\n",
      "+-------+-------+-------+\n"
     ]
    }
   ],
   "source": [
    "sudoku = SudokuAI.generate([Orthogonal(), SubBoard(), King()], max_erased=40)\n",
    "print(sudoku)"
   ]
  },
  {
   "cell_type": "code",
   "execution_count": 15,
   "metadata": {},
   "outputs": [
    {
     "name": "stdout",
     "output_type": "stream",
     "text": [
      "[]\n",
      "Rules: Orthogonal, SubBoard, Orthogonal, SubBoard, Consecutive\n",
      "+-------+-------+-------+\n",
      "| 6 5 4 | 9 1 2 | 7 3 8 |\n",
      "| 1 3 2 | * * 8 | * 6 4 |\n",
      "| 8 9 7 | 6 4 3 | 1 2 5 |\n",
      "+-------+-------+-------+\n",
      "| 7 * 6 | 1 5 9 | 2 8 3 |\n",
      "| 2 1 3 | 8 6 4 | 5 9 7 |\n",
      "| 9 8 5 | 3 2 7 | 6 * 1 |\n",
      "+-------+-------+-------+\n",
      "| 4 7 8 | 2 * 5 | 3 1 6 |\n",
      "| 5 2 * | 4 * 6 | 8 7 9 |\n",
      "| 3 6 * | 7 8 * | 4 5 2 |\n",
      "+-------+-------+-------+\n",
      "[((6, 3), (5, 3)), ((8, 4), (8, 3)), ((1, 5), (1, 4)), ((0, 1), (0, 0)), ((5, 1), (5, 0)), ((1, 8), (2, 8)), ((6, 2), (6, 1)), ((4, 1), (4, 0)), ((0, 1), (0, 2)), ((7, 6), (7, 7)), ((0, 2), (0, 1)), ((5, 6), (4, 6)), ((2, 4), (2, 5)), ((4, 4), (3, 4)), ((5, 0), (5, 1)), ((7, 4), (7, 3)), ((2, 6), (3, 6)), ((5, 3), (6, 3)), ((1, 4), (1, 5)), ((4, 6), (5, 6)), ((1, 6), (1, 5)), ((6, 1), (6, 2)), ((5, 5), (5, 6)), ((0, 0), (0, 1)), ((5, 4), (5, 3)), ((3, 0), (2, 0)), ((5, 6), (5, 5)), ((4, 5), (4, 6)), ((4, 6), (4, 5)), ((1, 3), (2, 3)), ((8, 7), (8, 6)), ((2, 7), (2, 6))]\n"
     ]
    }
   ],
   "source": [
    "consecutive = Consecutive()\n",
    "print(consecutive.data)\n",
    "sudoku = SudokuAI.generate([Orthogonal(), SubBoard(), consecutive], max_erased=10)\n",
    "print(sudoku)\n",
    "print(consecutive.data)"
   ]
  },
  {
   "cell_type": "code",
   "execution_count": 16,
   "metadata": {},
   "outputs": [
    {
     "name": "stdout",
     "output_type": "stream",
     "text": [
      "[[0, 0, 0, 1, 1, 1, 2, 2, 2], [0, 0, 0, 1, 1, 1, 2, 2, 2], [0, 0, 0, 1, 1, 1, 2, 2, 2], [3, 3, 3, 4, 4, 4, 5, 5, 5], [3, 3, 3, 4, 4, 4, 5, 5, 5], [3, 3, 3, 4, 4, 4, 5, 5, 5], [6, 6, 6, 7, 7, 7, 8, 8, 8], [6, 6, 6, 7, 7, 7, 8, 8, 8], [6, 6, 6, 7, 7, 7, 8, 8, 8]]\n"
     ]
    },
    {
     "ename": "KeyboardInterrupt",
     "evalue": "",
     "output_type": "error",
     "traceback": [
      "\u001b[1;31m---------------------------------------------------------------------------\u001b[0m",
      "\u001b[1;31mKeyboardInterrupt\u001b[0m                         Traceback (most recent call last)",
      "\u001b[1;32mC:\\Users\\cyrus.kfcheung\\AppData\\Local\\Temp\\ipykernel_22828\\954203722.py\u001b[0m in \u001b[0;36m<module>\u001b[1;34m\u001b[0m\n\u001b[0;32m      1\u001b[0m \u001b[0mjigsaw\u001b[0m \u001b[1;33m=\u001b[0m \u001b[0mJigsaw\u001b[0m\u001b[1;33m(\u001b[0m\u001b[1;33m)\u001b[0m\u001b[1;33m\u001b[0m\u001b[1;33m\u001b[0m\u001b[0m\n\u001b[0;32m      2\u001b[0m \u001b[0mprint\u001b[0m\u001b[1;33m(\u001b[0m\u001b[0mjigsaw\u001b[0m\u001b[1;33m.\u001b[0m\u001b[0mdata\u001b[0m\u001b[1;33m)\u001b[0m\u001b[1;33m\u001b[0m\u001b[1;33m\u001b[0m\u001b[0m\n\u001b[1;32m----> 3\u001b[1;33m \u001b[0msudoku\u001b[0m \u001b[1;33m=\u001b[0m \u001b[0mSudokuAI\u001b[0m\u001b[1;33m.\u001b[0m\u001b[0mgenerate\u001b[0m\u001b[1;33m(\u001b[0m\u001b[1;33m[\u001b[0m\u001b[0mOrthogonal\u001b[0m\u001b[1;33m(\u001b[0m\u001b[1;33m)\u001b[0m\u001b[1;33m,\u001b[0m \u001b[0mjigsaw\u001b[0m\u001b[1;33m]\u001b[0m\u001b[1;33m,\u001b[0m \u001b[0mmax_erased\u001b[0m\u001b[1;33m=\u001b[0m\u001b[1;36m10\u001b[0m\u001b[1;33m)\u001b[0m\u001b[1;33m\u001b[0m\u001b[1;33m\u001b[0m\u001b[0m\n\u001b[0m\u001b[0;32m      4\u001b[0m \u001b[0mprint\u001b[0m\u001b[1;33m(\u001b[0m\u001b[0msudoku\u001b[0m\u001b[1;33m)\u001b[0m\u001b[1;33m\u001b[0m\u001b[1;33m\u001b[0m\u001b[0m\n\u001b[0;32m      5\u001b[0m \u001b[0mprint\u001b[0m\u001b[1;33m(\u001b[0m\u001b[0mjigsaw\u001b[0m\u001b[1;33m.\u001b[0m\u001b[0mdata\u001b[0m\u001b[1;33m)\u001b[0m\u001b[1;33m\u001b[0m\u001b[1;33m\u001b[0m\u001b[0m\n",
      "\u001b[1;32mC:\\Users\\cyrus.kfcheung\\_Workspace\\sudoku_variants\\sudoku_variants\\sudoku_ai.py\u001b[0m in \u001b[0;36mgenerate\u001b[1;34m(rules, with_standard_rules, max_erased, mask, timeout_solve, timeout_erase, seed)\u001b[0m\n\u001b[0;32m     29\u001b[0m         \u001b[0mempty_board\u001b[0m \u001b[1;33m=\u001b[0m \u001b[1;33m[\u001b[0m\u001b[1;33m[\u001b[0m\u001b[1;36m0\u001b[0m\u001b[1;33m]\u001b[0m \u001b[1;33m*\u001b[0m \u001b[0mNUM_COL\u001b[0m \u001b[1;32mfor\u001b[0m \u001b[0m_\u001b[0m \u001b[1;32min\u001b[0m \u001b[0mrange\u001b[0m\u001b[1;33m(\u001b[0m\u001b[0mNUM_ROW\u001b[0m\u001b[1;33m)\u001b[0m\u001b[1;33m]\u001b[0m\u001b[1;33m\u001b[0m\u001b[1;33m\u001b[0m\u001b[0m\n\u001b[0;32m     30\u001b[0m \u001b[1;33m\u001b[0m\u001b[0m\n\u001b[1;32m---> 31\u001b[1;33m         \u001b[0mboard\u001b[0m\u001b[1;33m,\u001b[0m \u001b[0m_\u001b[0m \u001b[1;33m=\u001b[0m \u001b[0m_solve_helper\u001b[0m\u001b[1;33m(\u001b[0m\u001b[0mempty_board\u001b[0m\u001b[1;33m,\u001b[0m \u001b[0mrules\u001b[0m\u001b[1;33m,\u001b[0m \u001b[0mtimeout_solve\u001b[0m\u001b[1;33m,\u001b[0m \u001b[0mseed\u001b[0m\u001b[1;33m)\u001b[0m\u001b[1;33m\u001b[0m\u001b[1;33m\u001b[0m\u001b[0m\n\u001b[0m\u001b[0;32m     32\u001b[0m         \u001b[1;32mif\u001b[0m \u001b[0mboard\u001b[0m \u001b[1;32mis\u001b[0m \u001b[1;32mNone\u001b[0m\u001b[1;33m:\u001b[0m\u001b[1;33m\u001b[0m\u001b[1;33m\u001b[0m\u001b[0m\n\u001b[0;32m     33\u001b[0m             \u001b[1;32mreturn\u001b[0m \u001b[1;32mNone\u001b[0m\u001b[1;33m\u001b[0m\u001b[1;33m\u001b[0m\u001b[0m\n",
      "\u001b[1;32mC:\\Users\\cyrus.kfcheung\\_Workspace\\sudoku_variants\\sudoku_variants\\sudoku_ai.py\u001b[0m in \u001b[0;36m_solve_helper\u001b[1;34m(board, rules, timeout, seed)\u001b[0m\n\u001b[0;32m    110\u001b[0m             \u001b[0mdigits\u001b[0m \u001b[1;33m=\u001b[0m \u001b[0mrandom\u001b[0m\u001b[1;33m.\u001b[0m\u001b[0msample\u001b[0m\u001b[1;33m(\u001b[0m\u001b[0mDIGITS\u001b[0m\u001b[1;33m,\u001b[0m \u001b[0mlen\u001b[0m\u001b[1;33m(\u001b[0m\u001b[0mDIGITS\u001b[0m\u001b[1;33m)\u001b[0m\u001b[1;33m)\u001b[0m\u001b[1;33m\u001b[0m\u001b[1;33m\u001b[0m\u001b[0m\n\u001b[0;32m    111\u001b[0m             \u001b[1;32mfor\u001b[0m \u001b[0mdigit\u001b[0m \u001b[1;32min\u001b[0m \u001b[0mdigits\u001b[0m\u001b[1;33m:\u001b[0m\u001b[1;33m\u001b[0m\u001b[1;33m\u001b[0m\u001b[0m\n\u001b[1;32m--> 112\u001b[1;33m                 \u001b[1;32mif\u001b[0m \u001b[0mR\u001b[0m\u001b[1;33m.\u001b[0m\u001b[0mcheck_move\u001b[0m\u001b[1;33m(\u001b[0m\u001b[0mrules\u001b[0m\u001b[1;33m,\u001b[0m \u001b[0mcur_board\u001b[0m\u001b[1;33m,\u001b[0m \u001b[0mempty_cell\u001b[0m\u001b[1;33m[\u001b[0m\u001b[1;36m0\u001b[0m\u001b[1;33m]\u001b[0m\u001b[1;33m,\u001b[0m \u001b[0mempty_cell\u001b[0m\u001b[1;33m[\u001b[0m\u001b[1;36m1\u001b[0m\u001b[1;33m]\u001b[0m\u001b[1;33m,\u001b[0m \u001b[0mdigit\u001b[0m\u001b[1;33m)\u001b[0m\u001b[1;33m:\u001b[0m\u001b[1;33m\u001b[0m\u001b[1;33m\u001b[0m\u001b[0m\n\u001b[0m\u001b[0;32m    113\u001b[0m                     \u001b[0mnew_board\u001b[0m \u001b[1;33m=\u001b[0m \u001b[0mB\u001b[0m\u001b[1;33m.\u001b[0m\u001b[0mcopy_board\u001b[0m\u001b[1;33m(\u001b[0m\u001b[0mcur_board\u001b[0m\u001b[1;33m)\u001b[0m\u001b[1;33m\u001b[0m\u001b[1;33m\u001b[0m\u001b[0m\n\u001b[0;32m    114\u001b[0m                     \u001b[0mnew_board\u001b[0m\u001b[1;33m[\u001b[0m\u001b[0mempty_cell\u001b[0m\u001b[1;33m[\u001b[0m\u001b[1;36m0\u001b[0m\u001b[1;33m]\u001b[0m\u001b[1;33m]\u001b[0m\u001b[1;33m[\u001b[0m\u001b[0mempty_cell\u001b[0m\u001b[1;33m[\u001b[0m\u001b[1;36m1\u001b[0m\u001b[1;33m]\u001b[0m\u001b[1;33m]\u001b[0m \u001b[1;33m=\u001b[0m \u001b[0mdigit\u001b[0m\u001b[1;33m\u001b[0m\u001b[1;33m\u001b[0m\u001b[0m\n",
      "\u001b[1;31mKeyboardInterrupt\u001b[0m: "
     ]
    }
   ],
   "source": [
    "jigsaw = Jigsaw()\n",
    "print(jigsaw.data)\n",
    "sudoku = SudokuAI.generate([Orthogonal(), jigsaw], max_erased=10)\n",
    "print(sudoku)\n",
    "print(jigsaw.data)"
   ]
  }
 ],
 "metadata": {
  "kernelspec": {
   "display_name": ".venv",
   "language": "python",
   "name": "python3"
  },
  "language_info": {
   "codemirror_mode": {
    "name": "ipython",
    "version": 3
   },
   "file_extension": ".py",
   "mimetype": "text/x-python",
   "name": "python",
   "nbconvert_exporter": "python",
   "pygments_lexer": "ipython3",
   "version": "3.7.9"
  }
 },
 "nbformat": 4,
 "nbformat_minor": 2
}
