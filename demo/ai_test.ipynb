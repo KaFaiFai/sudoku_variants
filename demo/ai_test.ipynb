{
 "cells": [
  {
   "cell_type": "code",
   "execution_count": 1,
   "metadata": {},
   "outputs": [],
   "source": [
    "import os\n",
    "import sys\n",
    "from pathlib import Path\n",
    "\n",
    "sys.path.append(str((Path(os.path.abspath(\"\")) / \"..\").resolve()))\n",
    "from sudoku_variants import Sudoku, SudokuAI, SudokuConst\n",
    "from sudoku_variants.rule import Orthogonal, SubBoard, Knight, King, Consecutive"
   ]
  },
  {
   "cell_type": "code",
   "execution_count": 2,
   "metadata": {},
   "outputs": [
    {
     "name": "stdout",
     "output_type": "stream",
     "text": [
      "Applied rules: Orthogonal, SubBoard, Knight, King\n",
      "+-------+-------+-------+\n",
      "| * * * | * * * | * * * |\n",
      "| * * * | * * * | * * * |\n",
      "| * * * | * * * | * * * |\n",
      "+-------+-------+-------+\n",
      "| * * * | * * * | * * * |\n",
      "| * * * | * * * | * * * |\n",
      "| * * * | * * * | * * * |\n",
      "+-------+-------+-------+\n",
      "| * * * | * * * | * * * |\n",
      "| * * * | * * * | * * * |\n",
      "| * * * | * * * | * * * |\n",
      "+-------+-------+-------+\n"
     ]
    }
   ],
   "source": [
    "board = [[0 for _ in range(SudokuConst.NUM_COL)] for _ in range(SudokuConst.NUM_ROW)]\n",
    "rules = [Orthogonal(), SubBoard(), Knight(), King()]\n",
    "empty_sudoku = Sudoku(board, rules)\n",
    "print(empty_sudoku)"
   ]
  },
  {
   "cell_type": "code",
   "execution_count": 3,
   "metadata": {},
   "outputs": [
    {
     "name": "stdout",
     "output_type": "stream",
     "text": [
      "Applied rules: Orthogonal, SubBoard, Knight, King\n",
      "+-------+-------+-------+\n",
      "| 2 3 4 | 9 7 1 | 6 8 5 |\n",
      "| 9 7 1 | 6 8 5 | 2 3 4 |\n",
      "| 6 8 5 | 2 3 4 | 9 7 1 |\n",
      "+-------+-------+-------+\n",
      "| 3 4 9 | 7 1 6 | 8 5 2 |\n",
      "| 7 1 6 | 8 5 2 | 3 4 9 |\n",
      "| 8 5 2 | 3 4 9 | 7 1 6 |\n",
      "+-------+-------+-------+\n",
      "| 4 9 7 | 1 6 8 | 5 2 3 |\n",
      "| 1 6 8 | 5 2 3 | 4 9 7 |\n",
      "| 5 2 3 | 4 9 7 | 1 6 8 |\n",
      "+-------+-------+-------+\n",
      "True\n"
     ]
    }
   ],
   "source": [
    "solved_sudoku = SudokuAI.solve(empty_sudoku, seed=3)\n",
    "print(solved_sudoku)\n",
    "if solved_sudoku is not None:\n",
    "    print(solved_sudoku.check_board())"
   ]
  },
  {
   "cell_type": "code",
   "execution_count": 8,
   "metadata": {},
   "outputs": [
    {
     "ename": "KeyboardInterrupt",
     "evalue": "",
     "output_type": "error",
     "traceback": [
      "\u001b[1;31m---------------------------------------------------------------------------\u001b[0m",
      "\u001b[1;31mKeyboardInterrupt\u001b[0m                         Traceback (most recent call last)",
      "\u001b[1;32mC:\\Users\\cyrus.kfcheung\\AppData\\Local\\Temp\\ipykernel_37252\\1127496828.py\u001b[0m in \u001b[0;36m<module>\u001b[1;34m\u001b[0m\n\u001b[1;32m----> 1\u001b[1;33m \u001b[0msudoku\u001b[0m \u001b[1;33m=\u001b[0m \u001b[0mSudokuAI\u001b[0m\u001b[1;33m.\u001b[0m\u001b[0mgenerate\u001b[0m\u001b[1;33m(\u001b[0m\u001b[1;33m[\u001b[0m\u001b[0mOrthogonal\u001b[0m\u001b[1;33m(\u001b[0m\u001b[1;33m)\u001b[0m\u001b[1;33m,\u001b[0m \u001b[0mSubBoard\u001b[0m\u001b[1;33m(\u001b[0m\u001b[1;33m)\u001b[0m\u001b[1;33m]\u001b[0m\u001b[1;33m,\u001b[0m \u001b[0mmax_erased\u001b[0m\u001b[1;33m=\u001b[0m\u001b[1;36m81\u001b[0m\u001b[1;33m,\u001b[0m \u001b[0mseed\u001b[0m\u001b[1;33m=\u001b[0m\u001b[1;36m2\u001b[0m\u001b[1;33m)\u001b[0m\u001b[1;33m\u001b[0m\u001b[1;33m\u001b[0m\u001b[0m\n\u001b[0m\u001b[0;32m      2\u001b[0m \u001b[0mprint\u001b[0m\u001b[1;33m(\u001b[0m\u001b[0msudoku\u001b[0m\u001b[1;33m)\u001b[0m\u001b[1;33m\u001b[0m\u001b[1;33m\u001b[0m\u001b[0m\n",
      "\u001b[1;32mC:\\Users\\cyrus.kfcheung\\_Workspace\\sudoku_variants\\sudoku_variants\\sudoku_ai.py\u001b[0m in \u001b[0;36mgenerate\u001b[1;34m(rules, with_normal_rules, max_erased, mask, timeout_solve, timeout_erase, seed)\u001b[0m\n\u001b[0;32m     41\u001b[0m             \u001b[0mtimeout\u001b[0m\u001b[1;33m=\u001b[0m\u001b[0mtimeout_erase\u001b[0m\u001b[1;33m,\u001b[0m\u001b[1;33m\u001b[0m\u001b[1;33m\u001b[0m\u001b[0m\n\u001b[0;32m     42\u001b[0m             \u001b[0mseed\u001b[0m\u001b[1;33m=\u001b[0m\u001b[0mseed\u001b[0m\u001b[1;33m,\u001b[0m\u001b[1;33m\u001b[0m\u001b[1;33m\u001b[0m\u001b[0m\n\u001b[1;32m---> 43\u001b[1;33m             \u001b[0mmask\u001b[0m\u001b[1;33m=\u001b[0m\u001b[0mmask\u001b[0m\u001b[1;33m,\u001b[0m\u001b[1;33m\u001b[0m\u001b[1;33m\u001b[0m\u001b[0m\n\u001b[0m\u001b[0;32m     44\u001b[0m         )\n\u001b[0;32m     45\u001b[0m         \u001b[1;32mreturn\u001b[0m \u001b[0mSudoku\u001b[0m\u001b[1;33m(\u001b[0m\u001b[0mboard\u001b[0m\u001b[1;33m,\u001b[0m \u001b[0mrules\u001b[0m\u001b[1;33m)\u001b[0m\u001b[1;33m\u001b[0m\u001b[1;33m\u001b[0m\u001b[0m\n",
      "\u001b[1;32mC:\\Users\\cyrus.kfcheung\\_Workspace\\sudoku_variants\\sudoku_variants\\sudoku_ai.py\u001b[0m in \u001b[0;36m_erase_board_helper\u001b[1;34m(board, rules, mask, max_erased, timeout, seed)\u001b[0m\n\u001b[0;32m    166\u001b[0m                 \u001b[0mnext_board\u001b[0m \u001b[1;33m=\u001b[0m \u001b[0mB\u001b[0m\u001b[1;33m.\u001b[0m\u001b[0mcopy_board\u001b[0m\u001b[1;33m(\u001b[0m\u001b[0mcur_board\u001b[0m\u001b[1;33m)\u001b[0m\u001b[1;33m\u001b[0m\u001b[1;33m\u001b[0m\u001b[0m\n\u001b[0;32m    167\u001b[0m                 \u001b[0mnext_board\u001b[0m\u001b[1;33m[\u001b[0m\u001b[0mi\u001b[0m\u001b[1;33m]\u001b[0m\u001b[1;33m[\u001b[0m\u001b[0mj\u001b[0m\u001b[1;33m]\u001b[0m \u001b[1;33m=\u001b[0m \u001b[1;36m0\u001b[0m\u001b[1;33m\u001b[0m\u001b[1;33m\u001b[0m\u001b[0m\n\u001b[1;32m--> 168\u001b[1;33m                 \u001b[0mis_unique\u001b[0m \u001b[1;33m=\u001b[0m \u001b[0m_has_unique_solution_helper\u001b[0m\u001b[1;33m(\u001b[0m\u001b[0mnext_board\u001b[0m\u001b[1;33m,\u001b[0m \u001b[0mrules\u001b[0m\u001b[1;33m,\u001b[0m \u001b[0mseed\u001b[0m\u001b[1;33m=\u001b[0m\u001b[0mseed\u001b[0m\u001b[1;33m)\u001b[0m\u001b[1;33m\u001b[0m\u001b[1;33m\u001b[0m\u001b[0m\n\u001b[0m\u001b[0;32m    169\u001b[0m                 \u001b[1;31m# even if erasing this cell does not have unique solution now, we will never consider it either\u001b[0m\u001b[1;33m\u001b[0m\u001b[1;33m\u001b[0m\u001b[1;33m\u001b[0m\u001b[0m\n\u001b[0;32m    170\u001b[0m                 \u001b[0mcoords_to_erase\u001b[0m\u001b[1;33m.\u001b[0m\u001b[0mremove\u001b[0m\u001b[1;33m(\u001b[0m\u001b[1;33m(\u001b[0m\u001b[0mi\u001b[0m\u001b[1;33m,\u001b[0m \u001b[0mj\u001b[0m\u001b[1;33m)\u001b[0m\u001b[1;33m)\u001b[0m\u001b[1;33m\u001b[0m\u001b[1;33m\u001b[0m\u001b[0m\n",
      "\u001b[1;32mC:\\Users\\cyrus.kfcheung\\_Workspace\\sudoku_variants\\sudoku_variants\\sudoku_ai.py\u001b[0m in \u001b[0;36m_has_unique_solution_helper\u001b[1;34m(board, rules, seed)\u001b[0m\n\u001b[0;32m    118\u001b[0m     \u001b[1;32mwhile\u001b[0m \u001b[0mstacks\u001b[0m\u001b[1;33m:\u001b[0m\u001b[1;33m\u001b[0m\u001b[1;33m\u001b[0m\u001b[0m\n\u001b[0;32m    119\u001b[0m         \u001b[0mcur_board\u001b[0m \u001b[1;33m=\u001b[0m \u001b[0mstacks\u001b[0m\u001b[1;33m.\u001b[0m\u001b[0mpop\u001b[0m\u001b[1;33m(\u001b[0m\u001b[1;33m)\u001b[0m\u001b[1;33m\u001b[0m\u001b[1;33m\u001b[0m\u001b[0m\n\u001b[1;32m--> 120\u001b[1;33m         \u001b[0mcur_board\u001b[0m\u001b[1;33m,\u001b[0m \u001b[0mcur_stacks\u001b[0m \u001b[1;33m=\u001b[0m \u001b[0m_solve_helper\u001b[0m\u001b[1;33m(\u001b[0m\u001b[0mcur_board\u001b[0m\u001b[1;33m,\u001b[0m \u001b[0mrules\u001b[0m\u001b[1;33m,\u001b[0m \u001b[0msys\u001b[0m\u001b[1;33m.\u001b[0m\u001b[0mmaxsize\u001b[0m\u001b[1;33m,\u001b[0m \u001b[0mseed\u001b[0m\u001b[1;33m=\u001b[0m\u001b[0mseed\u001b[0m\u001b[1;33m)\u001b[0m\u001b[1;33m\u001b[0m\u001b[1;33m\u001b[0m\u001b[0m\n\u001b[0m\u001b[0;32m    121\u001b[0m         \u001b[1;32mif\u001b[0m \u001b[0mcur_board\u001b[0m \u001b[1;32mis\u001b[0m \u001b[1;32mnot\u001b[0m \u001b[1;32mNone\u001b[0m\u001b[1;33m:\u001b[0m\u001b[1;33m\u001b[0m\u001b[1;33m\u001b[0m\u001b[0m\n\u001b[0;32m    122\u001b[0m             \u001b[1;31m# there is second solution\u001b[0m\u001b[1;33m\u001b[0m\u001b[1;33m\u001b[0m\u001b[1;33m\u001b[0m\u001b[0m\n",
      "\u001b[1;32mC:\\Users\\cyrus.kfcheung\\_Workspace\\sudoku_variants\\sudoku_variants\\sudoku_ai.py\u001b[0m in \u001b[0;36m_solve_helper\u001b[1;34m(board, rules, timeout, seed)\u001b[0m\n\u001b[0;32m     94\u001b[0m \u001b[1;33m\u001b[0m\u001b[0m\n\u001b[0;32m     95\u001b[0m         \u001b[1;32mif\u001b[0m \u001b[0mempty_cell\u001b[0m \u001b[1;32mis\u001b[0m \u001b[1;32mnot\u001b[0m \u001b[1;32mNone\u001b[0m\u001b[1;33m:\u001b[0m\u001b[1;33m\u001b[0m\u001b[1;33m\u001b[0m\u001b[0m\n\u001b[1;32m---> 96\u001b[1;33m             \u001b[0mdigits\u001b[0m \u001b[1;33m=\u001b[0m \u001b[0mrandom\u001b[0m\u001b[1;33m.\u001b[0m\u001b[0msample\u001b[0m\u001b[1;33m(\u001b[0m\u001b[0mDIGITS\u001b[0m\u001b[1;33m,\u001b[0m \u001b[0mlen\u001b[0m\u001b[1;33m(\u001b[0m\u001b[0mDIGITS\u001b[0m\u001b[1;33m)\u001b[0m\u001b[1;33m)\u001b[0m\u001b[1;33m\u001b[0m\u001b[1;33m\u001b[0m\u001b[0m\n\u001b[0m\u001b[0;32m     97\u001b[0m             \u001b[1;32mfor\u001b[0m \u001b[0mdigit\u001b[0m \u001b[1;32min\u001b[0m \u001b[0mdigits\u001b[0m\u001b[1;33m:\u001b[0m\u001b[1;33m\u001b[0m\u001b[1;33m\u001b[0m\u001b[0m\n\u001b[0;32m     98\u001b[0m                 \u001b[1;32mif\u001b[0m \u001b[0mR\u001b[0m\u001b[1;33m.\u001b[0m\u001b[0mcheck_move\u001b[0m\u001b[1;33m(\u001b[0m\u001b[0mrules\u001b[0m\u001b[1;33m,\u001b[0m \u001b[0mcur_board\u001b[0m\u001b[1;33m,\u001b[0m \u001b[0mempty_cell\u001b[0m\u001b[1;33m[\u001b[0m\u001b[1;36m0\u001b[0m\u001b[1;33m]\u001b[0m\u001b[1;33m,\u001b[0m \u001b[0mempty_cell\u001b[0m\u001b[1;33m[\u001b[0m\u001b[1;36m1\u001b[0m\u001b[1;33m]\u001b[0m\u001b[1;33m,\u001b[0m \u001b[0mdigit\u001b[0m\u001b[1;33m)\u001b[0m\u001b[1;33m:\u001b[0m\u001b[1;33m\u001b[0m\u001b[1;33m\u001b[0m\u001b[0m\n",
      "\u001b[1;32mC:\\Program Files\\WindowsApps\\PythonSoftwareFoundation.Python.3.7_3.7.2544.0_x64__qbz5n2kfra8p0\\lib\\random.py\u001b[0m in \u001b[0;36msample\u001b[1;34m(self, population, k)\u001b[0m\n\u001b[0;32m    329\u001b[0m             \u001b[1;32mfor\u001b[0m \u001b[0mi\u001b[0m \u001b[1;32min\u001b[0m \u001b[0mrange\u001b[0m\u001b[1;33m(\u001b[0m\u001b[0mk\u001b[0m\u001b[1;33m)\u001b[0m\u001b[1;33m:\u001b[0m         \u001b[1;31m# invariant:  non-selected at [0,n-i)\u001b[0m\u001b[1;33m\u001b[0m\u001b[1;33m\u001b[0m\u001b[0m\n\u001b[0;32m    330\u001b[0m                 \u001b[0mj\u001b[0m \u001b[1;33m=\u001b[0m \u001b[0mrandbelow\u001b[0m\u001b[1;33m(\u001b[0m\u001b[0mn\u001b[0m\u001b[1;33m-\u001b[0m\u001b[0mi\u001b[0m\u001b[1;33m)\u001b[0m\u001b[1;33m\u001b[0m\u001b[1;33m\u001b[0m\u001b[0m\n\u001b[1;32m--> 331\u001b[1;33m                 \u001b[0mresult\u001b[0m\u001b[1;33m[\u001b[0m\u001b[0mi\u001b[0m\u001b[1;33m]\u001b[0m \u001b[1;33m=\u001b[0m \u001b[0mpool\u001b[0m\u001b[1;33m[\u001b[0m\u001b[0mj\u001b[0m\u001b[1;33m]\u001b[0m\u001b[1;33m\u001b[0m\u001b[1;33m\u001b[0m\u001b[0m\n\u001b[0m\u001b[0;32m    332\u001b[0m                 \u001b[0mpool\u001b[0m\u001b[1;33m[\u001b[0m\u001b[0mj\u001b[0m\u001b[1;33m]\u001b[0m \u001b[1;33m=\u001b[0m \u001b[0mpool\u001b[0m\u001b[1;33m[\u001b[0m\u001b[0mn\u001b[0m\u001b[1;33m-\u001b[0m\u001b[0mi\u001b[0m\u001b[1;33m-\u001b[0m\u001b[1;36m1\u001b[0m\u001b[1;33m]\u001b[0m   \u001b[1;31m# move non-selected item into vacancy\u001b[0m\u001b[1;33m\u001b[0m\u001b[1;33m\u001b[0m\u001b[0m\n\u001b[0;32m    333\u001b[0m         \u001b[1;32melse\u001b[0m\u001b[1;33m:\u001b[0m\u001b[1;33m\u001b[0m\u001b[1;33m\u001b[0m\u001b[0m\n",
      "\u001b[1;31mKeyboardInterrupt\u001b[0m: "
     ]
    }
   ],
   "source": [
    "sudoku = SudokuAI.generate([Orthogonal(), SubBoard()], max_erased=60, seed=2)\n",
    "print(sudoku)"
   ]
  },
  {
   "cell_type": "code",
   "execution_count": 5,
   "metadata": {},
   "outputs": [
    {
     "name": "stdout",
     "output_type": "stream",
     "text": [
      "Applied rules: Orthogonal, SubBoard, Knight\n",
      "+-------+-------+-------+\n",
      "| 5 1 * | * * 6 | * * * |\n",
      "| 6 * * | * * * | * * * |\n",
      "| * * * | * * * | * * * |\n",
      "+-------+-------+-------+\n",
      "| * * * | * * * | * * * |\n",
      "| * * * | * * * | * * 7 |\n",
      "| 3 5 2 | 1 9 7 | 6 8 4 |\n",
      "+-------+-------+-------+\n",
      "| 1 2 5 | 4 7 9 | 8 6 3 |\n",
      "| 8 7 4 | 3 6 1 | 9 2 5 |\n",
      "| 9 6 3 | 8 2 5 | 7 4 1 |\n",
      "+-------+-------+-------+\n"
     ]
    }
   ],
   "source": [
    "sudoku = SudokuAI.generate([Orthogonal(), SubBoard(), Knight()], max_erased=40)\n",
    "print(sudoku)"
   ]
  },
  {
   "cell_type": "code",
   "execution_count": 6,
   "metadata": {},
   "outputs": [
    {
     "name": "stdout",
     "output_type": "stream",
     "text": [
      "Applied rules: Orthogonal, SubBoard, King\n",
      "+-------+-------+-------+\n",
      "| 2 * * | * * * | * * * |\n",
      "| * * * | * * * | * * 1 |\n",
      "| * * * | * * * | * * * |\n",
      "+-------+-------+-------+\n",
      "| * * * | * * * | * * * |\n",
      "| * * * | * * * | 1 3 6 |\n",
      "| 5 7 3 | 1 6 9 | 8 2 4 |\n",
      "+-------+-------+-------+\n",
      "| 9 2 6 | 8 3 7 | 4 1 5 |\n",
      "| 3 4 5 | 9 2 1 | 6 7 8 |\n",
      "| 7 1 8 | 6 5 4 | 3 9 2 |\n",
      "+-------+-------+-------+\n"
     ]
    }
   ],
   "source": [
    "sudoku = SudokuAI.generate([Orthogonal(), SubBoard(), King()], max_erased=40)\n",
    "print(sudoku)"
   ]
  },
  {
   "cell_type": "code",
   "execution_count": 7,
   "metadata": {},
   "outputs": [
    {
     "name": "stdout",
     "output_type": "stream",
     "text": [
      "[]\n",
      "Applied rules: Orthogonal, SubBoard, Consecutive\n",
      "+-------+-------+-------+\n",
      "| * * * | * * * | * * * |\n",
      "| * 9 7 | 3 8 6 | 1 2 5 |\n",
      "| 5 2 6 | 9 1 4 | 3 8 7 |\n",
      "+-------+-------+-------+\n",
      "| 9 6 2 | 1 7 8 | 4 5 3 |\n",
      "| 3 4 8 | 5 9 2 | 7 1 6 |\n",
      "| 7 5 1 | 4 6 3 | 8 9 2 |\n",
      "+-------+-------+-------+\n",
      "| 1 3 4 | 8 2 5 | 6 7 9 |\n",
      "| 2 7 9 | 6 4 1 | 5 3 8 |\n",
      "| 6 8 5 | 7 3 9 | 2 4 1 |\n",
      "+-------+-------+-------+\n",
      "[((6, 0), (7, 0)), ((5, 6), (4, 6)), ((3, 5), (3, 4)), ((2, 7), (2, 8)), ((4, 5), (5, 5)), ((0, 3), (1, 3)), ((2, 0), (1, 0)), ((2, 2), (1, 2)), ((7, 6), (6, 6)), ((7, 4), (8, 4)), ((5, 6), (5, 7)), ((0, 5), (1, 5)), ((4, 1), (4, 0)), ((6, 8), (7, 8)), ((0, 3), (0, 2)), ((1, 6), (1, 7)), ((1, 7), (1, 6)), ((4, 3), (5, 3)), ((2, 6), (3, 6)), ((7, 3), (8, 3)), ((0, 2), (0, 3)), ((7, 7), (8, 7)), ((4, 0), (4, 1)), ((1, 0), (2, 0)), ((6, 7), (6, 6)), ((6, 1), (6, 2)), ((2, 8), (2, 7)), ((7, 1), (8, 1)), ((8, 4), (7, 4)), ((5, 1), (4, 1)), ((4, 1), (5, 1)), ((6, 6), (6, 5)), ((1, 2), (2, 2)), ((7, 8), (6, 8)), ((5, 5), (4, 5)), ((1, 3), (0, 3)), ((3, 3), (3, 2)), ((5, 7), (5, 6)), ((6, 5), (6, 6)), ((5, 3), (4, 3)), ((6, 6), (6, 7)), ((1, 0), (1, -1)), ((8, 3), (7, 3)), ((3, 4), (3, 5)), ((6, 2), (6, 1)), ((3, 6), (3, 7)), ((4, 6), (5, 6)), ((2, 6), (2, 5)), ((0, 8), (1, 8)), ((1, 5), (0, 5)), ((3, 2), (3, 3)), ((1, 8), (0, 8)), ((8, 7), (7, 7)), ((7, 0), (6, 0)), ((2, 5), (2, 6))]\n"
     ]
    }
   ],
   "source": [
    "consecutive = Consecutive()\n",
    "print(consecutive.data)\n",
    "sudoku = SudokuAI.generate([Orthogonal(), SubBoard(), consecutive], max_erased=10)\n",
    "print(sudoku)\n",
    "print(consecutive.data)"
   ]
  }
 ],
 "metadata": {
  "kernelspec": {
   "display_name": ".venv",
   "language": "python",
   "name": "python3"
  },
  "language_info": {
   "codemirror_mode": {
    "name": "ipython",
    "version": 3
   },
   "file_extension": ".py",
   "mimetype": "text/x-python",
   "name": "python",
   "nbconvert_exporter": "python",
   "pygments_lexer": "ipython3",
   "version": "3.7.9"
  }
 },
 "nbformat": 4,
 "nbformat_minor": 2
}
