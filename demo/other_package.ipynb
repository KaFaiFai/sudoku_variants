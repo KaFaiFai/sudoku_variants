{
 "cells": [
  {
   "cell_type": "code",
   "execution_count": 2,
   "metadata": {},
   "outputs": [],
   "source": [
    "import os\n",
    "import sys\n",
    "from pathlib import Path\n",
    "\n",
    "sys.path.append(str((Path(os.path.abspath(\"\")) / \"..\").resolve()))\n",
    "from sudoku_variants import Sudoku, SudokuAI\n",
    "\n",
    "# from sudoku_variants.model import Board, Coord, Move\n",
    "from sudoku_variants.rule import Orthogonal, SubBoard\n",
    "from sudoku_variants.helper.const import NUM_COL, NUM_ROW, DIGITS\n",
    "from sudoku_variants.helper.profile import profile"
   ]
  },
  {
   "cell_type": "code",
   "execution_count": 3,
   "metadata": {},
   "outputs": [
    {
     "name": "stdout",
     "output_type": "stream",
     "text": [
      "Time: 0.3222s, 100x | 0.0032s/time\n"
     ]
    }
   ],
   "source": [
    "@profile(100)\n",
    "def run():\n",
    "    board = [[0 for _ in range(9)] for _ in range(9)]\n",
    "    sudoku = Sudoku(board, [Orthogonal(), SubBoard()])\n",
    "    puzzle = SudokuAI.solve(sudoku)\n",
    "\n",
    "\n",
    "run()"
   ]
  },
  {
   "cell_type": "code",
   "execution_count": 4,
   "metadata": {},
   "outputs": [
    {
     "name": "stdout",
     "output_type": "stream",
     "text": [
      "Time: 0.0283s, 10x | 0.0028s/time\n"
     ]
    }
   ],
   "source": [
    "@profile(10)\n",
    "def run():\n",
    "    puzzle =SudokuAI.generate([Orthogonal(), SubBoard()], max_erased=45)\n",
    "\n",
    "\n",
    "run()"
   ]
  },
  {
   "cell_type": "markdown",
   "metadata": {},
   "source": [
    "### py-sudoku\n",
    "https://pypi.org/project/py-sudoku/"
   ]
  },
  {
   "cell_type": "code",
   "execution_count": 5,
   "metadata": {},
   "outputs": [
    {
     "name": "stdout",
     "output_type": "stream",
     "text": [
      "Time: 0.2087s, 100x | 0.0021s/time\n"
     ]
    }
   ],
   "source": [
    "from sudoku import Sudoku as PySudoku\n",
    "\n",
    "@profile(100)\n",
    "def run():\n",
    "    puzzle = PySudoku(3).difficulty(0.999)\n",
    "    # puzzle.show()\n",
    "\n",
    "\n",
    "run()"
   ]
  },
  {
   "cell_type": "markdown",
   "metadata": {},
   "source": [
    "- guranteed solution\n",
    "- not guranteed UNIQUE solution"
   ]
  },
  {
   "cell_type": "markdown",
   "metadata": {},
   "source": []
  }
 ],
 "metadata": {
  "kernelspec": {
   "display_name": ".venv",
   "language": "python",
   "name": "python3"
  },
  "language_info": {
   "codemirror_mode": {
    "name": "ipython",
    "version": 3
   },
   "file_extension": ".py",
   "mimetype": "text/x-python",
   "name": "python",
   "nbconvert_exporter": "python",
   "pygments_lexer": "ipython3",
   "version": "3.7.9"
  }
 },
 "nbformat": 4,
 "nbformat_minor": 2
}
