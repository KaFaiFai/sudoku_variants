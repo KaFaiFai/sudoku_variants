{
 "cells": [
  {
   "cell_type": "code",
   "execution_count": 1,
   "metadata": {},
   "outputs": [],
   "source": [
    "from itertools import combinations\n",
    "\n",
    "import os\n",
    "import sys\n",
    "from pathlib import Path\n",
    "\n",
    "sys.path.append(str((Path(os.path.abspath(\"\")) / \"..\").resolve()))\n",
    "from sudoku_variants import Sudoku, SudokuAI, const\n",
    "from sudoku_variants.rule import Orthogonal, SubBoard, Knight, King, Consecutive, Jigsaw\n",
    "from sudoku_variants.func import rules as R\n",
    "\n",
    "\n",
    "def standard_rules():\n",
    "    return [Orthogonal(), SubBoard()]\n",
    "\n",
    "\n",
    "def variant_rules():\n",
    "    return [Knight(), King(), Consecutive(), Jigsaw()]"
   ]
  },
  {
   "cell_type": "code",
   "execution_count": 2,
   "metadata": {},
   "outputs": [],
   "source": [
    "import timeit\n",
    "\n",
    "\n",
    "def profile(number: int):\n",
    "    def inner(func):\n",
    "        def wrapper(*args, **kwargs):\n",
    "            def run():\n",
    "                func(*args, **kwargs)\n",
    "\n",
    "            time = timeit.timeit(\"run()\", globals=locals(), number=number)\n",
    "            print(f\"Time: {time:.4f}s, {number}x | {time/number:.4f}s/time\")\n",
    "\n",
    "        return wrapper\n",
    "\n",
    "    return inner"
   ]
  },
  {
   "cell_type": "markdown",
   "metadata": {},
   "source": [
    "### AI"
   ]
  },
  {
   "cell_type": "code",
   "execution_count": 3,
   "metadata": {},
   "outputs": [
    {
     "name": "stdout",
     "output_type": "stream",
     "text": [
      "\n",
      "Time: 0.0283s, 10x | 0.0028s/time\n",
      "Knight\n",
      "Time: 1.9804s, 10x | 0.1980s/time\n",
      "King\n",
      "Time: 0.0778s, 10x | 0.0078s/time\n",
      "Consecutive\n",
      "Time: 0.0334s, 10x | 0.0033s/time\n",
      "Jigsaw\n",
      "Time: 0.0285s, 10x | 0.0028s/time\n",
      "Knight, King\n",
      "Time: 2.2329s, 10x | 0.2233s/time\n",
      "Knight, Consecutive\n",
      "Time: 5.3126s, 10x | 0.5313s/time\n",
      "Knight, Jigsaw\n",
      "Time: 2.0501s, 10x | 0.2050s/time\n",
      "King, Consecutive\n",
      "Time: 0.0993s, 10x | 0.0099s/time\n",
      "King, Jigsaw\n",
      "Time: 0.1899s, 10x | 0.0190s/time\n",
      "Consecutive, Jigsaw\n",
      "Time: 0.0345s, 10x | 0.0034s/time\n",
      "Knight, King, Consecutive\n",
      "Time: 1.8513s, 10x | 0.1851s/time\n",
      "Knight, King, Jigsaw\n",
      "Time: 3.2142s, 10x | 0.3214s/time\n",
      "Knight, Consecutive, Jigsaw\n",
      "Time: 3.3450s, 10x | 0.3345s/time\n",
      "King, Consecutive, Jigsaw\n",
      "Time: 0.0481s, 10x | 0.0048s/time\n",
      "Knight, King, Consecutive, Jigsaw\n",
      "Time: 1.7992s, 10x | 0.1799s/time\n"
     ]
    }
   ],
   "source": [
    "@profile(10)\n",
    "def run(rules):\n",
    "    board = [[0 for _ in range(const.NUM_COL)] for _ in range(const.NUM_ROW)]\n",
    "    sudoku = Sudoku(board, rules)\n",
    "    SudokuAI.solve(sudoku)\n",
    "\n",
    "\n",
    "for length in range(len(variant_rules()) + 1):\n",
    "    for subset in combinations(variant_rules(), length):\n",
    "        print(R.to_name(list(subset)))\n",
    "        rules = R.with_standard_rules(list(subset))\n",
    "\n",
    "        # board = [[0 for _ in range(SudokuConst.NUM_COL)] for _ in range(SudokuConst.NUM_ROW)]\n",
    "        # sudoku = Sudoku(board, rules)\n",
    "        # R.populate_initial_data(rules)\n",
    "        # SudokuAI.solve(sudoku)\n",
    "        # R.extract_data_from_board(rules, sudoku.board)\n",
    "\n",
    "        run(rules)"
   ]
  },
  {
   "cell_type": "code",
   "execution_count": 4,
   "metadata": {},
   "outputs": [
    {
     "name": "stdout",
     "output_type": "stream",
     "text": [
      "30\n",
      "Time: 0.1472s, 10x | 0.0147s/time\n",
      "40\n",
      "Time: 0.3808s, 10x | 0.0381s/time\n",
      "50\n",
      "Time: 4.3327s, 10x | 0.4333s/time\n",
      "60\n",
      "Time: 167.8731s, 10x | 16.7873s/time\n"
     ]
    }
   ],
   "source": [
    "@profile(10)\n",
    "def run(rules, to_erase):\n",
    "    SudokuAI.generate(rules, max_erased=to_erase)\n",
    "\n",
    "\n",
    "rules = [Orthogonal(), SubBoard()]\n",
    "for to_erase in [30, 40, 50, 60]:\n",
    "    print(to_erase)\n",
    "    run(rules, to_erase)"
   ]
  },
  {
   "cell_type": "code",
   "execution_count": 5,
   "metadata": {},
   "outputs": [
    {
     "name": "stdout",
     "output_type": "stream",
     "text": [
      "Rules: Orthogonal, SubBoard, Knight, King, Consecutive\n",
      "+-------+-------+-------+\n",
      "| * 5 * | * * 7 | 1 * * |\n",
      "| 3 1 * | 8 * 4 | 6 2 * |\n",
      "| * * 2 | * 1 9 | 8 * * |\n",
      "+-------+-------+-------+\n",
      "| 4 * * | 7 * 2 | 3 1 * |\n",
      "| * 3 1 | 4 * 5 | * * * |\n",
      "| 2 * * | * * 1 | 4 * * |\n",
      "+-------+-------+-------+\n",
      "| 5 4 8 | * 7 6 | * 3 * |\n",
      "| 1 9 3 | * 4 * | * 7 6 |\n",
      "| 6 * * | 1 * 3 | * 4 * |\n",
      "+-------+-------+-------+\n",
      "Time: 0.0622s, 1x | 0.0622s/time\n"
     ]
    }
   ],
   "source": [
    "@profile(1)\n",
    "def run():\n",
    "    sudoku = SudokuAI.generate([Orthogonal(), SubBoard(), Knight(), King(), Consecutive()], max_erased=40)\n",
    "    if sudoku is not None:\n",
    "        sudoku.show()\n",
    "\n",
    "\n",
    "run()"
   ]
  }
 ],
 "metadata": {
  "kernelspec": {
   "display_name": ".venv",
   "language": "python",
   "name": "python3"
  },
  "language_info": {
   "codemirror_mode": {
    "name": "ipython",
    "version": 3
   },
   "file_extension": ".py",
   "mimetype": "text/x-python",
   "name": "python",
   "nbconvert_exporter": "python",
   "pygments_lexer": "ipython3",
   "version": "3.7.9"
  }
 },
 "nbformat": 4,
 "nbformat_minor": 2
}
