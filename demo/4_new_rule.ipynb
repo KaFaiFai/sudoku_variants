{
 "cells": [
  {
   "cell_type": "code",
   "execution_count": 9,
   "metadata": {},
   "outputs": [],
   "source": [
    "import random\n",
    "\n",
    "from typing import List, Tuple, Optional\n",
    "\n",
    "import os\n",
    "import sys\n",
    "from pathlib import Path\n",
    "\n",
    "sys.path.append(str((Path(os.path.abspath(\"\")) / \"..\").resolve()))\n",
    "from sudoku_variants import SudokuAI\n",
    "from sudoku_variants.const import DIGITS, NUM_COL, NUM_ROW\n",
    "from sudoku_variants.rule import Rule, WithData\n",
    "from sudoku_variants.func import rules as R"
   ]
  },
  {
   "cell_type": "code",
   "execution_count": 10,
   "metadata": {},
   "outputs": [],
   "source": [
    "# We will implement a stricter version of Consecutive and call it ConsecutiveStrict\n",
    "# In this version, unmarked adjacent cells must be non-consecutive\n",
    "\n",
    "ConsecutiveDataType = List[Tuple[Tuple[int, int], Tuple[int, int]]]\n",
    "\n",
    "# first bool is to disable rule check when initially the data is not populated yet\n",
    "ConsecutiveStrictDataType = Tuple[bool, ConsecutiveDataType]\n",
    "\n",
    "\n",
    "class ConsecutiveStrict(Rule, WithData):\n",
    "    offsets: List[Tuple[int, int]] = [\n",
    "        (-1, 0),\n",
    "        (1, 0),\n",
    "        (0, -1),\n",
    "        (0, 1),\n",
    "    ]\n",
    "\n",
    "    def __init__(self, data: Optional[ConsecutiveStrictDataType] = None) -> None:\n",
    "        \"\"\"\n",
    "        data: a flag to activate the rule check and a list of neighbours which is a pair of coordinates\n",
    "        \"\"\"\n",
    "        super().__init__()\n",
    "        self.data: ConsecutiveStrictDataType\n",
    "        if data is None:\n",
    "            self.data = (False, [])\n",
    "        else:\n",
    "            self.data = data\n",
    "\n",
    "    def check_move(self, board: List[List[int]], row: int, col: int, digit: int) -> bool:\n",
    "        if digit not in DIGITS:\n",
    "            return True\n",
    "\n",
    "        # disable rule check\n",
    "        if not self.data[0]:\n",
    "            return True\n",
    "\n",
    "        cur_coord = (row, col)\n",
    "        for offset in self.offsets:\n",
    "            neighbour_coord = (row + offset[0], col + offset[1])\n",
    "            pair1 = (cur_coord, neighbour_coord)\n",
    "            pair2 = (neighbour_coord, cur_coord)\n",
    "\n",
    "            if pair1 in self.data[1] or pair2 in self.data[1]:\n",
    "                neighbour_digit = board[neighbour_coord[0]][neighbour_coord[1]]\n",
    "                if neighbour_digit in DIGITS and abs(digit - neighbour_digit) != 1:\n",
    "                    return False\n",
    "            else:\n",
    "                # unmarked adjacent cells must be non-consecutive\n",
    "                if (0 <= neighbour_coord[0] < len(board)) and (0 <= neighbour_coord[1] < len(board[0])):\n",
    "                    neighbour_digit = board[neighbour_coord[0]][neighbour_coord[1]]\n",
    "                    if neighbour_digit in DIGITS and abs(digit - neighbour_digit) == 1:\n",
    "                        return False\n",
    "\n",
    "        return True\n",
    "\n",
    "    def populate_initial_data(self):\n",
    "        self.data = (False, [])\n",
    "\n",
    "    def extract_data_from_board(self, board: List[List[int]]):\n",
    "        consecutive_data: ConsecutiveDataType = []\n",
    "        for i in range(NUM_ROW):\n",
    "            for j in range(NUM_COL):\n",
    "                cur_coord = (i, j)\n",
    "                cur_digit = board[i][j]\n",
    "\n",
    "                for offset in self.offsets:\n",
    "                    if (0 <= i + offset[0] < len(board)) and (0 <= j + offset[1] < len(board[0])):\n",
    "                        neighbour_coord = (i + offset[0], j + offset[1])\n",
    "                        neighbour_digit = board[neighbour_coord[0]][neighbour_coord[1]]\n",
    "                        if abs(cur_digit - neighbour_digit) == 1:\n",
    "                            consecutive_data.append((cur_coord, neighbour_coord))\n",
    "\n",
    "        size = random.randint(0, len(consecutive_data))\n",
    "        consecutive_data = random.sample(consecutive_data, size)\n",
    "        # activate the rule check\n",
    "        self.data = (True, consecutive_data)"
   ]
  },
  {
   "cell_type": "code",
   "execution_count": 11,
   "metadata": {},
   "outputs": [
    {
     "name": "stdout",
     "output_type": "stream",
     "text": [
      "ConsecutiveStrict, Orthogonal, SubBoard\n"
     ]
    }
   ],
   "source": [
    "consecutive_strict_rule = ConsecutiveStrict()\n",
    "rules = R.with_standard_rules([consecutive_strict_rule])\n",
    "print(R.to_name(rules))"
   ]
  },
  {
   "cell_type": "code",
   "execution_count": 14,
   "metadata": {},
   "outputs": [
    {
     "name": "stdout",
     "output_type": "stream",
     "text": [
      "Rules: ConsecutiveStrict, Orthogonal, SubBoard\n",
      "+-------+-------+-------+\n",
      "| 8 7 4 | 9 3 1 | 2 * 5 |\n",
      "| 6 2 3 | 4 8 5 | 7 1 9 |\n",
      "| 1 9 5 | 2 6 * | 8 3 4 |\n",
      "+-------+-------+-------+\n",
      "| 4 5 6 | 7 1 * | 9 8 3 |\n",
      "| 9 3 1 | 5 4 8 | 6 7 * |\n",
      "| 2 8 7 | 3 9 * | 4 5 1 |\n",
      "+-------+-------+-------+\n",
      "| 3 4 8 | 1 7 9 | 5 2 6 |\n",
      "| 5 * 9 | * * 3 | 1 4 7 |\n",
      "| 7 * 2 | 6 5 * | 3 9 8 |\n",
      "+-------+-------+-------+\n",
      "(True, [((0, 7), (0, 8)), ((1, 6), (2, 6)), ((3, 2), (3, 1)), ((8, 2), (8, 1)), ((7, 1), (7, 0)), ((0, 8), (0, 7)), ((3, 1), (3, 2)), ((5, 0), (6, 0)), ((3, 8), (2, 8)), ((5, 6), (5, 7)), ((0, 1), (0, 0)), ((3, 7), (3, 6)), ((1, 2), (1, 1)), ((8, 8), (8, 7)), ((1, 1), (1, 2)), ((7, 2), (7, 3)), ((3, 0), (3, 1)), ((2, 8), (2, 7)), ((8, 5), (8, 4)), ((6, 1), (6, 0)), ((5, 2), (6, 2)), ((3, 2), (2, 2)), ((2, 6), (1, 6)), ((8, 5), (8, 6)), ((0, 0), (0, 1)), ((3, 6), (2, 6)), ((8, 3), (8, 4)), ((3, 5), (3, 4)), ((3, 3), (3, 2)), ((2, 6), (2, 5)), ((4, 7), (4, 6)), ((2, 6), (3, 6)), ((8, 1), (8, 2)), ((6, 6), (5, 6)), ((8, 4), (8, 3)), ((7, 0), (7, 1)), ((2, 7), (2, 8)), ((4, 7), (3, 7)), ((3, 6), (3, 7)), ((2, 2), (3, 2)), ((8, 8), (7, 8)), ((8, 4), (8, 5)), ((6, 2), (7, 2)), ((5, 6), (6, 6)), ((7, 3), (7, 2)), ((0, 6), (0, 5)), ((1, 2), (1, 3)), ((8, 6), (8, 5)), ((7, 4), (7, 5)), ((5, 7), (5, 6)), ((7, 2), (6, 2)), ((6, 0), (5, 0)), ((1, 3), (1, 2)), ((6, 0), (6, 1)), ((6, 2), (5, 2)), ((8, 5), (7, 5)), ((3, 8), (4, 8)), ((2, 8), (3, 8)), ((7, 5), (8, 5)), ((4, 8), (5, 8)), ((0, 5), (0, 6)), ((3, 7), (4, 7)), ((7, 8), (8, 8)), ((4, 8), (3, 8)), ((4, 6), (4, 7)), ((2, 4), (2, 5)), ((3, 2), (3, 3))])\n"
     ]
    }
   ],
   "source": [
    "sudoku = SudokuAI.generate(rules, max_erased=5)\n",
    "print(sudoku)\n",
    "print(consecutive_strict_rule.data)"
   ]
  }
 ],
 "metadata": {
  "kernelspec": {
   "display_name": ".venv",
   "language": "python",
   "name": "python3"
  },
  "language_info": {
   "codemirror_mode": {
    "name": "ipython",
    "version": 3
   },
   "file_extension": ".py",
   "mimetype": "text/x-python",
   "name": "python",
   "nbconvert_exporter": "python",
   "pygments_lexer": "ipython3",
   "version": "3.7.9"
  }
 },
 "nbformat": 4,
 "nbformat_minor": 2
}
