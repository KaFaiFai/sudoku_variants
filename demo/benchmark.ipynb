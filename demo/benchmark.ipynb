{
 "cells": [
  {
   "cell_type": "code",
   "execution_count": 1,
   "metadata": {},
   "outputs": [],
   "source": [
    "from itertools import combinations\n",
    "\n",
    "import os\n",
    "import sys\n",
    "from pathlib import Path\n",
    "\n",
    "sys.path.append(str((Path(os.path.abspath(\"\")) / \"..\").resolve()))\n",
    "from sudoku_variants import Sudoku, SudokuAI, SudokuConst\n",
    "from sudoku_variants.rule import Orthogonal, SubBoard, Knight, King, Consecutive\n",
    "from sudoku_variants.func import rules as R\n",
    "from sudoku_variants.helper.profile import profile\n",
    "\n",
    "\n",
    "def standard_rules():\n",
    "    return [Orthogonal(), SubBoard()]\n",
    "\n",
    "\n",
    "def variant_rules():\n",
    "    return [Knight(), King(), Consecutive()]"
   ]
  },
  {
   "cell_type": "markdown",
   "metadata": {},
   "source": [
    "### AI"
   ]
  },
  {
   "cell_type": "code",
   "execution_count": 12,
   "metadata": {},
   "outputs": [
    {
     "name": "stdout",
     "output_type": "stream",
     "text": [
      "\n",
      "Time: 0.0286s, 10x | 0.0029s/time\n",
      "Knight\n",
      "Time: 0.7580s, 10x | 0.0758s/time\n",
      "King\n",
      "Time: 0.1904s, 10x | 0.0190s/time\n",
      "Consecutive\n",
      "Time: 0.0318s, 10x | 0.0032s/time\n",
      "Knight, King\n",
      "Time: 1.9722s, 10x | 0.1972s/time\n",
      "Knight, Consecutive\n",
      "Time: 0.6011s, 10x | 0.0601s/time\n",
      "King, Consecutive\n",
      "Time: 0.1258s, 10x | 0.0126s/time\n",
      "Knight, King, Consecutive\n",
      "Time: 2.6119s, 10x | 0.2612s/time\n"
     ]
    }
   ],
   "source": [
    "@profile(10)\n",
    "def run(rules):\n",
    "    board = [[0 for _ in range(SudokuConst.NUM_COL)] for _ in range(SudokuConst.NUM_ROW)]\n",
    "    sudoku = Sudoku(board, rules)\n",
    "    SudokuAI.solve(sudoku)\n",
    "\n",
    "\n",
    "for length in range(len(variant_rules()) + 1):\n",
    "    for subset in combinations(variant_rules(), length):\n",
    "        print(R.to_name(list(subset)))\n",
    "        rules = standard_rules() + list(subset)\n",
    "        run(rules)"
   ]
  },
  {
   "cell_type": "code",
   "execution_count": 2,
   "metadata": {},
   "outputs": [
    {
     "name": "stdout",
     "output_type": "stream",
     "text": [
      "35\n",
      "Time: 41.8159s, 10x | 4.1816s/time\n",
      "40\n"
     ]
    }
   ],
   "source": [
    "@profile(10)\n",
    "def run(rules, to_erase):\n",
    "    SudokuAI.generate(rules, max_erased=to_erase)\n",
    "\n",
    "\n",
    "for to_erase in [35, 40, 50, 60]:\n",
    "    print(to_erase)\n",
    "    rules = [Orthogonal(), SubBoard(), Knight(), King()]\n",
    "    run(rules, to_erase)"
   ]
  },
  {
   "cell_type": "code",
   "execution_count": null,
   "metadata": {},
   "outputs": [
    {
     "name": "stdout",
     "output_type": "stream",
     "text": [
      "[(0, 0)]\n",
      "Applied rules: Orthogonal, SubBoard, Knight, King, Consecutive\n",
      "+-------+-------+-------+\n",
      "| * 9 5 | 6 8 2 | 4 1 3 |\n",
      "| 4 1 3 | 7 9 5 | 6 8 2 |\n",
      "| 6 8 2 | 4 1 3 | 7 9 5 |\n",
      "+-------+-------+-------+\n",
      "| 3 7 9 | 5 6 8 | 2 4 1 |\n",
      "| 2 4 1 | 3 7 9 | 5 6 8 |\n",
      "| 5 6 8 | 2 4 1 | 3 7 9 |\n",
      "+-------+-------+-------+\n",
      "| 1 3 7 | 9 5 6 | 8 2 4 |\n",
      "| 8 2 4 | 1 3 7 | 9 5 6 |\n",
      "| 9 5 6 | 8 2 4 | 1 3 7 |\n",
      "+-------+-------+-------+\n",
      "Time: 0.2140s, 1x | 0.2140s/time\n"
     ]
    }
   ],
   "source": [
    "@profile(1)\n",
    "def run():\n",
    "    sudoku = SudokuAI.generate([Orthogonal(), SubBoard(), Knight(), King(), Consecutive()],  max_erased=1)\n",
    "    print(sudoku)\n",
    "\n",
    "\n",
    "run()"
   ]
  }
 ],
 "metadata": {
  "kernelspec": {
   "display_name": ".venv",
   "language": "python",
   "name": "python3"
  },
  "language_info": {
   "codemirror_mode": {
    "name": "ipython",
    "version": 3
   },
   "file_extension": ".py",
   "mimetype": "text/x-python",
   "name": "python",
   "nbconvert_exporter": "python",
   "pygments_lexer": "ipython3",
   "version": "3.7.9"
  }
 },
 "nbformat": 4,
 "nbformat_minor": 2
}
