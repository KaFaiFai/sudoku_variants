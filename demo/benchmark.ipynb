{
 "cells": [
  {
   "cell_type": "code",
   "execution_count": 3,
   "metadata": {},
   "outputs": [],
   "source": [
    "from itertools import combinations\n",
    "\n",
    "import os\n",
    "import sys\n",
    "from pathlib import Path\n",
    "\n",
    "sys.path.append(str((Path(os.path.abspath(\"\")) / \"..\").resolve()))\n",
    "from sudoku_variants import Sudoku, SudokuAI, SudokuConst\n",
    "from sudoku_variants.rule import Orthogonal, SubBoard, Knight, King, Consecutive, Jigsaw\n",
    "from sudoku_variants.func import rules as R\n",
    "from sudoku_variants.helper.profile import profile\n",
    "\n",
    "\n",
    "def standard_rules():\n",
    "    return [Orthogonal(), SubBoard()]\n",
    "\n",
    "\n",
    "def variant_rules():\n",
    "    return [Knight(), King(), Consecutive(), Jigsaw()]"
   ]
  },
  {
   "cell_type": "markdown",
   "metadata": {},
   "source": [
    "### AI"
   ]
  },
  {
   "cell_type": "code",
   "execution_count": 4,
   "metadata": {},
   "outputs": [
    {
     "name": "stdout",
     "output_type": "stream",
     "text": [
      "\n",
      "Time: 0.0308s, 10x | 0.0031s/time\n",
      "Knight\n",
      "Time: 1.9358s, 10x | 0.1936s/time\n",
      "King\n",
      "Time: 0.2360s, 10x | 0.0236s/time\n",
      "Consecutive\n",
      "Time: 0.0296s, 10x | 0.0030s/time\n",
      "Jigsaw\n",
      "Time: 0.0299s, 10x | 0.0030s/time\n",
      "Knight, King\n",
      "Time: 1.6608s, 10x | 0.1661s/time\n",
      "Knight, Consecutive\n",
      "Time: 1.8338s, 10x | 0.1834s/time\n",
      "Knight, Jigsaw\n",
      "Time: 1.5579s, 10x | 0.1558s/time\n",
      "King, Consecutive\n",
      "Time: 0.0484s, 10x | 0.0048s/time\n",
      "King, Jigsaw\n",
      "Time: 0.0744s, 10x | 0.0074s/time\n",
      "Consecutive, Jigsaw\n",
      "Time: 0.0290s, 10x | 0.0029s/time\n",
      "Knight, King, Consecutive\n",
      "Time: 2.0964s, 10x | 0.2096s/time\n",
      "Knight, King, Jigsaw\n",
      "Time: 1.9349s, 10x | 0.1935s/time\n",
      "Knight, Consecutive, Jigsaw\n",
      "Time: 1.1424s, 10x | 0.1142s/time\n",
      "King, Consecutive, Jigsaw\n",
      "Time: 0.0830s, 10x | 0.0083s/time\n",
      "Knight, King, Consecutive, Jigsaw\n",
      "Time: 2.2907s, 10x | 0.2291s/time\n"
     ]
    }
   ],
   "source": [
    "@profile(10)\n",
    "def run(rules):\n",
    "    board = [[0 for _ in range(SudokuConst.NUM_COL)] for _ in range(SudokuConst.NUM_ROW)]\n",
    "    sudoku = Sudoku(board, rules)\n",
    "    SudokuAI.solve(sudoku)\n",
    "\n",
    "\n",
    "for length in range(len(variant_rules()) + 1):\n",
    "    for subset in combinations(variant_rules(), length):\n",
    "        print(R.to_name(list(subset)))\n",
    "        rules = R.with_standard_rules(list(subset))\n",
    "\n",
    "        # board = [[0 for _ in range(SudokuConst.NUM_COL)] for _ in range(SudokuConst.NUM_ROW)]\n",
    "        # sudoku = Sudoku(board, rules)\n",
    "        # R.populate_initial_data(rules)\n",
    "        # SudokuAI.solve(sudoku)\n",
    "        # R.extract_data_from_board(rules, sudoku.board)\n",
    "\n",
    "        run(rules)"
   ]
  },
  {
   "cell_type": "code",
   "execution_count": 3,
   "metadata": {},
   "outputs": [
    {
     "name": "stdout",
     "output_type": "stream",
     "text": [
      "35\n",
      "Time: 0.2784s, 10x | 0.0278s/time\n",
      "40\n",
      "Time: 0.4221s, 10x | 0.0422s/time\n",
      "50\n",
      "Time: 2.7139s, 10x | 0.2714s/time\n",
      "60\n",
      "Time: 252.0264s, 10x | 25.2026s/time\n"
     ]
    }
   ],
   "source": [
    "@profile(10)\n",
    "def run(rules, to_erase):\n",
    "    SudokuAI.generate(rules, max_erased=to_erase)\n",
    "\n",
    "\n",
    "for to_erase in [30, 40, 50, 60]:\n",
    "    print(to_erase)\n",
    "    rules = [Orthogonal(), SubBoard()]\n",
    "    run(rules, to_erase)"
   ]
  },
  {
   "cell_type": "code",
   "execution_count": 4,
   "metadata": {},
   "outputs": [
    {
     "name": "stdout",
     "output_type": "stream",
     "text": [
      "Applied rules: Orthogonal, SubBoard, Knight, King, Consecutive\n",
      "+-------+-------+-------+\n",
      "| * 9 * | 5 3 * | 6 * 2 |\n",
      "| 6 * 2 | 4 * * | 5 3 1 |\n",
      "| 5 * * | 6 * * | 4 9 * |\n",
      "+-------+-------+-------+\n",
      "| * * * | 7 * * | 1 * 8 |\n",
      "| 1 6 * | 2 * * | * 5 * |\n",
      "| 7 5 3 | * * 8 | 2 * 9 |\n",
      "+-------+-------+-------+\n",
      "| 8 2 * | 9 * 5 | * 1 * |\n",
      "| * * * | 8 * * | 9 7 5 |\n",
      "| 9 7 * | 3 1 * | * * * |\n",
      "+-------+-------+-------+\n",
      "Time: 0.2183s, 1x | 0.2183s/time\n"
     ]
    }
   ],
   "source": [
    "@profile(1)\n",
    "def run():\n",
    "    sudoku = SudokuAI.generate([Orthogonal(), SubBoard(), Knight(), King(), Consecutive()], max_erased=40)\n",
    "    print(sudoku)\n",
    "\n",
    "\n",
    "run()"
   ]
  }
 ],
 "metadata": {
  "kernelspec": {
   "display_name": ".venv",
   "language": "python",
   "name": "python3"
  },
  "language_info": {
   "codemirror_mode": {
    "name": "ipython",
    "version": 3
   },
   "file_extension": ".py",
   "mimetype": "text/x-python",
   "name": "python",
   "nbconvert_exporter": "python",
   "pygments_lexer": "ipython3",
   "version": "3.7.9"
  }
 },
 "nbformat": 4,
 "nbformat_minor": 2
}
