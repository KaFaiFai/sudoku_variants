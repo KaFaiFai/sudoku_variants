{
 "cells": [
  {
   "cell_type": "code",
   "execution_count": 1,
   "metadata": {},
   "outputs": [],
   "source": [
    "from itertools import combinations\n",
    "\n",
    "import os\n",
    "import sys\n",
    "from pathlib import Path\n",
    "\n",
    "sys.path.append(str((Path(os.path.abspath(\"\")) / \"..\").resolve()))\n",
    "from sudoku_variants import Sudoku, SudokuAI, SudokuConst\n",
    "from sudoku_variants.rule import Orthogonal, SubBoard, Knight, King, Consecutive\n",
    "from sudoku_variants.func import rules as R\n",
    "from sudoku_variants.helper.profile import profile\n",
    "\n",
    "\n",
    "def standard_rules():\n",
    "    return [Orthogonal(), SubBoard()]\n",
    "\n",
    "\n",
    "def variant_rules():\n",
    "    return [Knight(), King(), Consecutive()]"
   ]
  },
  {
   "cell_type": "markdown",
   "metadata": {},
   "source": [
    "### AI"
   ]
  },
  {
   "cell_type": "code",
   "execution_count": 2,
   "metadata": {},
   "outputs": [
    {
     "name": "stdout",
     "output_type": "stream",
     "text": [
      "\n",
      "Time: 0.0284s, 10x | 0.0028s/time\n",
      "Knight\n",
      "Time: 1.5605s, 10x | 0.1561s/time\n",
      "King\n",
      "Time: 0.0970s, 10x | 0.0097s/time\n",
      "Consecutive\n",
      "Time: 0.0298s, 10x | 0.0030s/time\n",
      "Knight, King\n",
      "Time: 0.4277s, 10x | 0.0428s/time\n",
      "Knight, Consecutive\n",
      "Time: 3.6271s, 10x | 0.3627s/time\n",
      "King, Consecutive\n",
      "Time: 0.1354s, 10x | 0.0135s/time\n",
      "Knight, King, Consecutive\n",
      "Time: 0.9583s, 10x | 0.0958s/time\n"
     ]
    }
   ],
   "source": [
    "@profile(10)\n",
    "def run(rules):\n",
    "    board = [[0 for _ in range(SudokuConst.NUM_COL)] for _ in range(SudokuConst.NUM_ROW)]\n",
    "    sudoku = Sudoku(board, rules)\n",
    "    SudokuAI.solve(sudoku)\n",
    "\n",
    "\n",
    "for length in range(len(variant_rules()) + 1):\n",
    "    for subset in combinations(variant_rules(), length):\n",
    "        print(R.to_name(list(subset)))\n",
    "        rules = standard_rules() + list(subset)\n",
    "        run(rules)"
   ]
  },
  {
   "cell_type": "code",
   "execution_count": 3,
   "metadata": {},
   "outputs": [
    {
     "name": "stdout",
     "output_type": "stream",
     "text": [
      "35\n",
      "Time: 1.3728s, 10x | 0.1373s/time\n",
      "40\n",
      "Time: 1.8956s, 10x | 0.1896s/time\n",
      "50\n",
      "Time: 3.6650s, 10x | 0.3665s/time\n",
      "60\n",
      "Time: 6.7350s, 10x | 0.6735s/time\n"
     ]
    }
   ],
   "source": [
    "@profile(10)\n",
    "def run(rules, to_erase):\n",
    "    SudokuAI.generate(rules, max_erased=to_erase)\n",
    "\n",
    "\n",
    "for to_erase in [35, 40, 50, 60]:\n",
    "    print(to_erase)\n",
    "    rules = [Orthogonal(), SubBoard(), Knight(), King()]\n",
    "    run(rules, to_erase)"
   ]
  },
  {
   "cell_type": "code",
   "execution_count": 3,
   "metadata": {},
   "outputs": [
    {
     "name": "stdout",
     "output_type": "stream",
     "text": [
      "Applied rules: Orthogonal, SubBoard, Knight, King, Consecutive\n",
      "+-------+-------+-------+\n",
      "| 6 5 8 | 3 7 2 | 1 4 9 |\n",
      "| * 4 9 | 6 5 8 | 3 7 2 |\n",
      "| 3 7 2 | 1 4 9 | 6 5 8 |\n",
      "+-------+-------+-------+\n",
      "| 9 6 5 | 8 3 7 | 2 1 4 |\n",
      "| 2 1 4 | 9 6 5 | 8 3 7 |\n",
      "| 8 3 7 | 2 1 4 | 9 6 5 |\n",
      "+-------+-------+-------+\n",
      "| 4 9 6 | 5 8 3 | 7 2 1 |\n",
      "| 7 2 1 | 4 9 6 | 5 8 3 |\n",
      "| 5 8 3 | 7 2 1 | 4 9 6 |\n",
      "+-------+-------+-------+\n",
      "Time: 0.0922s, 1x | 0.0922s/time\n"
     ]
    }
   ],
   "source": [
    "@profile(1)\n",
    "def run():\n",
    "    sudoku = SudokuAI.generate([Orthogonal(), SubBoard(), Knight(), King(), Consecutive()],  max_erased=1)\n",
    "    print(sudoku)\n",
    "\n",
    "\n",
    "run()"
   ]
  }
 ],
 "metadata": {
  "kernelspec": {
   "display_name": ".venv",
   "language": "python",
   "name": "python3"
  },
  "language_info": {
   "codemirror_mode": {
    "name": "ipython",
    "version": 3
   },
   "file_extension": ".py",
   "mimetype": "text/x-python",
   "name": "python",
   "nbconvert_exporter": "python",
   "pygments_lexer": "ipython3",
   "version": "3.7.9"
  }
 },
 "nbformat": 4,
 "nbformat_minor": 2
}
