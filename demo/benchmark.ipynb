{
 "cells": [
  {
   "cell_type": "code",
   "execution_count": 2,
   "metadata": {},
   "outputs": [],
   "source": [
    "import os\n",
    "import sys\n",
    "from pathlib import Path\n",
    "from copy import deepcopy\n",
    "\n",
    "sys.path.append(str((Path(os.path.abspath(\"\")) / \"..\").resolve()))\n",
    "from sudoku_variants import Sudoku, SudokuAI, SudokuConst\n",
    "from sudoku_variants.rule import Orthogonal, SubBoard\n",
    "from sudoku_variants.helper.profile import profile"
   ]
  },
  {
   "cell_type": "markdown",
   "metadata": {},
   "source": [
    "### AI"
   ]
  },
  {
   "cell_type": "code",
   "execution_count": 3,
   "metadata": {},
   "outputs": [
    {
     "name": "stdout",
     "output_type": "stream",
     "text": [
      "Time: 0.3292s, 100x | 0.0033s/time\n"
     ]
    }
   ],
   "source": [
    "board = [[0 for _ in range(SudokuConst.NUM_COL)] for _ in range(SudokuConst.NUM_ROW)]\n",
    "sudoku = Sudoku(board, [Orthogonal(), SubBoard()])\n",
    "\n",
    "\n",
    "@profile(100)\n",
    "def run():\n",
    "    SudokuAI.solve(sudoku)\n",
    "\n",
    "\n",
    "run()"
   ]
  },
  {
   "cell_type": "code",
   "execution_count": 4,
   "metadata": {},
   "outputs": [
    {
     "name": "stdout",
     "output_type": "stream",
     "text": [
      "Time: 0.0320s, 10x | 0.0032s/time\n"
     ]
    }
   ],
   "source": [
    "@profile(10)\n",
    "def run():\n",
    "    SudokuAI.generate([Orthogonal(), SubBoard()], max_erased=35)\n",
    "\n",
    "\n",
    "run()"
   ]
  },
  {
   "cell_type": "code",
   "execution_count": 5,
   "metadata": {},
   "outputs": [
    {
     "name": "stdout",
     "output_type": "stream",
     "text": [
      "Time: 0.0291s, 10x | 0.0029s/time\n"
     ]
    }
   ],
   "source": [
    "@profile(10)\n",
    "def run():\n",
    "    SudokuAI.generate([Orthogonal(), SubBoard()], max_erased=40)\n",
    "\n",
    "\n",
    "run()"
   ]
  },
  {
   "cell_type": "code",
   "execution_count": 6,
   "metadata": {},
   "outputs": [
    {
     "name": "stdout",
     "output_type": "stream",
     "text": [
      "Time: 0.0283s, 10x | 0.0028s/time\n"
     ]
    }
   ],
   "source": [
    "@profile(10)\n",
    "def run():\n",
    "    SudokuAI.generate([Orthogonal(), SubBoard()], max_erased=45)\n",
    "\n",
    "\n",
    "run()"
   ]
  }
 ],
 "metadata": {
  "kernelspec": {
   "display_name": ".venv",
   "language": "python",
   "name": "python3"
  },
  "language_info": {
   "codemirror_mode": {
    "name": "ipython",
    "version": 3
   },
   "file_extension": ".py",
   "mimetype": "text/x-python",
   "name": "python",
   "nbconvert_exporter": "python",
   "pygments_lexer": "ipython3",
   "version": "3.7.9"
  }
 },
 "nbformat": 4,
 "nbformat_minor": 2
}
