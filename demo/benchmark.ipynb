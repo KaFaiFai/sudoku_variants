{
 "cells": [
  {
   "cell_type": "code",
   "execution_count": 1,
   "metadata": {},
   "outputs": [],
   "source": [
    "import os\n",
    "import sys\n",
    "from pathlib import Path\n",
    "from copy import deepcopy\n",
    "\n",
    "sys.path.append(str((Path(os.path.abspath(\"\")) / \"..\").resolve()))\n",
    "from sudoku_variants import Sudoku, SudokuAI, SudokuConst\n",
    "from sudoku_variants.rule import Orthogonal, SubBoard\n",
    "from sudoku_variants.helper.profile import profile"
   ]
  },
  {
   "cell_type": "markdown",
   "metadata": {},
   "source": [
    "### AI"
   ]
  },
  {
   "cell_type": "code",
   "execution_count": 2,
   "metadata": {},
   "outputs": [
    {
     "name": "stdout",
     "output_type": "stream",
     "text": [
      "Time: 3.0430s, 1000x | 0.0030s/time\n"
     ]
    }
   ],
   "source": [
    "board = [[0 for _ in range(SudokuConst.NUM_COL)] for _ in range(SudokuConst.NUM_ROW)]\n",
    "sudoku = Sudoku(board, [Orthogonal(), SubBoard()])\n",
    "\n",
    "\n",
    "@profile(1000)\n",
    "def run():\n",
    "    SudokuAI.solve(sudoku)\n",
    "\n",
    "\n",
    "run()"
   ]
  },
  {
   "cell_type": "code",
   "execution_count": 3,
   "metadata": {},
   "outputs": [
    {
     "name": "stdout",
     "output_type": "stream",
     "text": [
      "Time: 3.0086s, 1000x | 0.0030s/time\n"
     ]
    }
   ],
   "source": [
    "@profile(1000)\n",
    "def run():\n",
    "    SudokuAI.generate([Orthogonal(), SubBoard()], max_erased=35)\n",
    "\n",
    "\n",
    "run()"
   ]
  },
  {
   "cell_type": "code",
   "execution_count": 4,
   "metadata": {},
   "outputs": [
    {
     "name": "stdout",
     "output_type": "stream",
     "text": [
      "Time: 2.9604s, 1000x | 0.0030s/time\n"
     ]
    }
   ],
   "source": [
    "@profile(1000)\n",
    "def run():\n",
    "    SudokuAI.generate([Orthogonal(), SubBoard()], max_erased=40)\n",
    "\n",
    "\n",
    "run()"
   ]
  },
  {
   "cell_type": "code",
   "execution_count": 5,
   "metadata": {},
   "outputs": [
    {
     "name": "stdout",
     "output_type": "stream",
     "text": [
      "Time: 2.9748s, 1000x | 0.0030s/time\n"
     ]
    }
   ],
   "source": [
    "@profile(1000)\n",
    "def run():\n",
    "    SudokuAI.generate([Orthogonal(), SubBoard()], max_erased=45)\n",
    "\n",
    "\n",
    "run()"
   ]
  },
  {
   "cell_type": "code",
   "execution_count": 6,
   "metadata": {},
   "outputs": [
    {
     "name": "stdout",
     "output_type": "stream",
     "text": [
      "Time: 2.9979s, 1000x | 0.0030s/time\n"
     ]
    }
   ],
   "source": [
    "@profile(1000)\n",
    "def run():\n",
    "    SudokuAI.generate([Orthogonal(), SubBoard()], max_erased=60)\n",
    "\n",
    "\n",
    "run()"
   ]
  },
  {
   "cell_type": "code",
   "execution_count": 8,
   "metadata": {},
   "outputs": [
    {
     "name": "stdout",
     "output_type": "stream",
     "text": [
      "Applied rules: Orthogonal, SubBoard\n",
      "+-------+-------+-------+\n",
      "| 8 9 6 | 3 2 1 | 5 4 7 |\n",
      "| 2 4 7 | 9 6 5 | 8 1 3 |\n",
      "| 5 3 1 | 4 8 7 | 6 9 2 |\n",
      "+-------+-------+-------+\n",
      "| 7 2 5 | 1 9 3 | 4 6 8 |\n",
      "| 6 1 4 | 2 5 8 | 7 3 9 |\n",
      "| 3 8 9 | 7 4 6 | 1 2 5 |\n",
      "+-------+-------+-------+\n",
      "| 9 7 3 | 8 1 4 | 2 5 6 |\n",
      "| 4 6 2 | 5 7 9 | 3 8 1 |\n",
      "| 1 5 8 | 6 3 2 | 9 7 4 |\n",
      "+-------+-------+-------+\n",
      "Time: 0.0035s, 1x | 0.0035s/time\n"
     ]
    }
   ],
   "source": [
    "@profile(1)\n",
    "def run():\n",
    "    sudoku = SudokuAI.generate([Orthogonal(), SubBoard()], max_erased=70)\n",
    "    print(sudoku)\n",
    "\n",
    "\n",
    "run()"
   ]
  }
 ],
 "metadata": {
  "kernelspec": {
   "display_name": ".venv",
   "language": "python",
   "name": "python3"
  },
  "language_info": {
   "codemirror_mode": {
    "name": "ipython",
    "version": 3
   },
   "file_extension": ".py",
   "mimetype": "text/x-python",
   "name": "python",
   "nbconvert_exporter": "python",
   "pygments_lexer": "ipython3",
   "version": "3.7.9"
  }
 },
 "nbformat": 4,
 "nbformat_minor": 2
}
