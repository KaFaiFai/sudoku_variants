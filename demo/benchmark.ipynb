{
 "cells": [
  {
   "cell_type": "code",
   "execution_count": 1,
   "metadata": {},
   "outputs": [],
   "source": [
    "from itertools import combinations\n",
    "\n",
    "import os\n",
    "import sys\n",
    "from pathlib import Path\n",
    "\n",
    "sys.path.append(str((Path(os.path.abspath(\"\")) / \"..\").resolve()))\n",
    "from sudoku_variants import Sudoku, SudokuAI, SudokuConst\n",
    "from sudoku_variants.rule import Orthogonal, SubBoard, Knight, King, Consecutive, Jigsaw\n",
    "from sudoku_variants.func import rules as R\n",
    "\n",
    "\n",
    "def standard_rules():\n",
    "    return [Orthogonal(), SubBoard()]\n",
    "\n",
    "\n",
    "def variant_rules():\n",
    "    return [Knight(), King(), Consecutive(), Jigsaw()]"
   ]
  },
  {
   "cell_type": "code",
   "execution_count": 2,
   "metadata": {},
   "outputs": [],
   "source": [
    "import timeit\n",
    "\n",
    "\n",
    "def profile(number: int):\n",
    "    def inner(func):\n",
    "        def wrapper(*args, **kwargs):\n",
    "            def run():\n",
    "                func(*args, **kwargs)\n",
    "\n",
    "            time = timeit.timeit(\"run()\", globals=locals(), number=number)\n",
    "            print(f\"Time: {time:.4f}s, {number}x | {time/number:.4f}s/time\")\n",
    "\n",
    "        return wrapper\n",
    "\n",
    "    return inner"
   ]
  },
  {
   "cell_type": "markdown",
   "metadata": {},
   "source": [
    "### AI"
   ]
  },
  {
   "cell_type": "code",
   "execution_count": 3,
   "metadata": {},
   "outputs": [
    {
     "name": "stdout",
     "output_type": "stream",
     "text": [
      "\n",
      "Time: 0.0300s, 10x | 0.0030s/time\n",
      "Knight\n",
      "Time: 1.9678s, 10x | 0.1968s/time\n",
      "King\n",
      "Time: 0.0528s, 10x | 0.0053s/time\n",
      "Consecutive\n",
      "Time: 0.0318s, 10x | 0.0032s/time\n",
      "Jigsaw\n",
      "Time: 0.0263s, 10x | 0.0026s/time\n",
      "Knight, King\n",
      "Time: 2.1149s, 10x | 0.2115s/time\n",
      "Knight, Consecutive\n",
      "Time: 1.1540s, 10x | 0.1154s/time\n",
      "Knight, Jigsaw\n",
      "Time: 1.3599s, 10x | 0.1360s/time\n",
      "King, Consecutive\n",
      "Time: 0.0718s, 10x | 0.0072s/time\n",
      "King, Jigsaw\n",
      "Time: 0.1735s, 10x | 0.0173s/time\n",
      "Consecutive, Jigsaw\n",
      "Time: 0.0378s, 10x | 0.0038s/time\n",
      "Knight, King, Consecutive\n",
      "Time: 2.3619s, 10x | 0.2362s/time\n",
      "Knight, King, Jigsaw\n",
      "Time: 2.0712s, 10x | 0.2071s/time\n",
      "Knight, Consecutive, Jigsaw\n",
      "Time: 1.0335s, 10x | 0.1033s/time\n",
      "King, Consecutive, Jigsaw\n",
      "Time: 0.0710s, 10x | 0.0071s/time\n",
      "Knight, King, Consecutive, Jigsaw\n",
      "Time: 1.5736s, 10x | 0.1574s/time\n"
     ]
    }
   ],
   "source": [
    "@profile(10)\n",
    "def run(rules):\n",
    "    board = [[0 for _ in range(SudokuConst.NUM_COL)] for _ in range(SudokuConst.NUM_ROW)]\n",
    "    sudoku = Sudoku(board, rules)\n",
    "    SudokuAI.solve(sudoku)\n",
    "\n",
    "\n",
    "for length in range(len(variant_rules()) + 1):\n",
    "    for subset in combinations(variant_rules(), length):\n",
    "        print(R.to_name(list(subset)))\n",
    "        rules = R.with_standard_rules(list(subset))\n",
    "\n",
    "        # board = [[0 for _ in range(SudokuConst.NUM_COL)] for _ in range(SudokuConst.NUM_ROW)]\n",
    "        # sudoku = Sudoku(board, rules)\n",
    "        # R.populate_initial_data(rules)\n",
    "        # SudokuAI.solve(sudoku)\n",
    "        # R.extract_data_from_board(rules, sudoku.board)\n",
    "\n",
    "        run(rules)"
   ]
  },
  {
   "cell_type": "code",
   "execution_count": 4,
   "metadata": {},
   "outputs": [
    {
     "name": "stdout",
     "output_type": "stream",
     "text": [
      "30\n",
      "Time: 0.1669s, 10x | 0.0167s/time\n",
      "40\n",
      "Time: 0.3420s, 10x | 0.0342s/time\n",
      "50\n",
      "Time: 4.4955s, 10x | 0.4496s/time\n",
      "60\n"
     ]
    }
   ],
   "source": [
    "@profile(10)\n",
    "def run(rules, to_erase):\n",
    "    SudokuAI.generate(rules, max_erased=to_erase)\n",
    "\n",
    "\n",
    "rules = [Orthogonal(), SubBoard()]\n",
    "for to_erase in [30, 40, 50, 60]:\n",
    "    print(to_erase)\n",
    "    run(rules, to_erase)"
   ]
  },
  {
   "cell_type": "code",
   "execution_count": null,
   "metadata": {},
   "outputs": [
    {
     "name": "stdout",
     "output_type": "stream",
     "text": [
      "Rules: Orthogonal, SubBoard, Orthogonal, SubBoard, Knight, King, Consecutive\n",
      "+-------+-------+-------+\n",
      "| 8 9 4 | * * * | 1 * 6 |\n",
      "| * 5 * | 8 9 4 | 2 3 * |\n",
      "| * 3 * | 1 * * | * 9 * |\n",
      "+-------+-------+-------+\n",
      "| 6 * * | 4 2 3 | 7 1 5 |\n",
      "| 7 * 5 | 6 8 * | 4 * * |\n",
      "| 4 * 3 | * * 5 | * 8 * |\n",
      "+-------+-------+-------+\n",
      "| 5 * * | 9 * * | * * * |\n",
      "| 3 * * | * 6 * | * 4 2 |\n",
      "| * 4 2 | 3 7 1 | * * * |\n",
      "+-------+-------+-------+\n",
      "Time: 0.2229s, 1x | 0.2229s/time\n"
     ]
    }
   ],
   "source": [
    "@profile(1)\n",
    "def run():\n",
    "    sudoku = SudokuAI.generate([Orthogonal(), SubBoard(), Knight(), King(), Consecutive()], max_erased=40)\n",
    "    print(sudoku)\n",
    "\n",
    "\n",
    "run()"
   ]
  }
 ],
 "metadata": {
  "kernelspec": {
   "display_name": ".venv",
   "language": "python",
   "name": "python3"
  },
  "language_info": {
   "codemirror_mode": {
    "name": "ipython",
    "version": 3
   },
   "file_extension": ".py",
   "mimetype": "text/x-python",
   "name": "python",
   "nbconvert_exporter": "python",
   "pygments_lexer": "ipython3",
   "version": "3.7.9"
  }
 },
 "nbformat": 4,
 "nbformat_minor": 2
}
