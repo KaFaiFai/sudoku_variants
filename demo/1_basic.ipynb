{
 "cells": [
  {
   "cell_type": "code",
   "execution_count": 1,
   "metadata": {},
   "outputs": [],
   "source": [
    "import os\n",
    "import sys\n",
    "from pathlib import Path\n",
    "\n",
    "sys.path.append(str((Path(os.path.abspath(\"\")) / \"..\").resolve()))\n",
    "from sudoku_variants import Sudoku, const\n",
    "from sudoku_variants.rule import Orthogonal, SubBoard"
   ]
  },
  {
   "cell_type": "markdown",
   "metadata": {},
   "source": [
    "### const\n",
    "contains the constants used for sudoku"
   ]
  },
  {
   "cell_type": "code",
   "execution_count": 2,
   "metadata": {},
   "outputs": [
    {
     "name": "stdout",
     "output_type": "stream",
     "text": [
      "9\n",
      "9\n",
      "[1, 2, 3, 4, 5, 6, 7, 8, 9]\n"
     ]
    }
   ],
   "source": [
    "print(const.NUM_ROW)\n",
    "print(const.NUM_COL)\n",
    "print(const.DIGITS)"
   ]
  },
  {
   "cell_type": "markdown",
   "metadata": {},
   "source": [
    "### Board\n",
    "2D list of integers"
   ]
  },
  {
   "cell_type": "code",
   "execution_count": 3,
   "metadata": {},
   "outputs": [
    {
     "name": "stdout",
     "output_type": "stream",
     "text": [
      "0 0 1 0 0 0 0 0 0\n",
      "0 0 0 0 0 0 0 0 0\n",
      "0 0 0 0 0 0 0 0 0\n",
      "0 0 0 0 0 0 0 0 0\n",
      "0 0 0 0 0 0 0 0 0\n",
      "0 0 0 0 0 0 0 0 0\n",
      "0 0 0 0 0 0 0 0 0\n",
      "0 0 0 0 0 0 0 0 0\n",
      "0 0 0 0 0 0 0 0 0\n"
     ]
    }
   ],
   "source": [
    "board = [[0 for _ in range(const.NUM_COL)] for _ in range(const.NUM_ROW)]\n",
    "board[0][2] = 1\n",
    "for row in board:\n",
    "    print(\" \".join(str(d) for d in row))"
   ]
  },
  {
   "cell_type": "markdown",
   "metadata": {},
   "source": [
    "### Rule\n",
    "rule of sudoku.  \n",
    "Contains method to check whether a move immediately violates the rule given the board"
   ]
  },
  {
   "cell_type": "code",
   "execution_count": 4,
   "metadata": {},
   "outputs": [
    {
     "data": {
      "text/plain": [
       "False"
      ]
     },
     "execution_count": 4,
     "metadata": {},
     "output_type": "execute_result"
    }
   ],
   "source": [
    "rule = Orthogonal()\n",
    "rule.check_move(board, 0, 3, 1)"
   ]
  },
  {
   "cell_type": "code",
   "execution_count": 5,
   "metadata": {},
   "outputs": [
    {
     "data": {
      "text/plain": [
       "True"
      ]
     },
     "execution_count": 5,
     "metadata": {},
     "output_type": "execute_result"
    }
   ],
   "source": [
    "rule = SubBoard()\n",
    "rule.check_move(board, 0, 3, 1)"
   ]
  },
  {
   "cell_type": "markdown",
   "metadata": {},
   "source": [
    "### Sudoku\n",
    "consists of a board and a list of rules"
   ]
  },
  {
   "cell_type": "code",
   "execution_count": 6,
   "metadata": {},
   "outputs": [
    {
     "name": "stdout",
     "output_type": "stream",
     "text": [
      "Rules: Orthogonal, SubBoard\n",
      "+-------+-------+-------+\n",
      "| 2 3 4 | 9 7 1 | 6 8 5 |\n",
      "| 9 7 1 | 6 8 5 | 3 4 2 |\n",
      "| 6 8 5 | 3 4 2 | 7 1 9 |\n",
      "+-------+-------+-------+\n",
      "| 3 4 2 | 7 1 9 | 8 5 6 |\n",
      "| 7 1 9 | 8 5 6 | 4 2 3 |\n",
      "| 8 5 6 | 4 2 3 | 1 9 7 |\n",
      "+-------+-------+-------+\n",
      "| 4 2 3 | 1 9 7 | 5 6 8 |\n",
      "| 1 9 7 | 5 6 8 | 2 3 4 |\n",
      "| 5 6 8 | 2 3 4 | 9 7 1 |\n",
      "+-------+-------+-------+\n",
      "True\n"
     ]
    }
   ],
   "source": [
    "# a completed valid standard sudoku\n",
    "board = [\n",
    "    [2, 3, 4, 9, 7, 1, 6, 8, 5],\n",
    "    [9, 7, 1, 6, 8, 5, 3, 4, 2],\n",
    "    [6, 8, 5, 3, 4, 2, 7, 1, 9],\n",
    "    [3, 4, 2, 7, 1, 9, 8, 5, 6],\n",
    "    [7, 1, 9, 8, 5, 6, 4, 2, 3],\n",
    "    [8, 5, 6, 4, 2, 3, 1, 9, 7],\n",
    "    [4, 2, 3, 1, 9, 7, 5, 6, 8],\n",
    "    [1, 9, 7, 5, 6, 8, 2, 3, 4],\n",
    "    [5, 6, 8, 2, 3, 4, 9, 7, 1],\n",
    "]\n",
    "rules = [Orthogonal(), SubBoard()]\n",
    "sudoku = Sudoku(board, rules)\n",
    "print(sudoku)\n",
    "print(sudoku.check_board())"
   ]
  },
  {
   "cell_type": "code",
   "execution_count": 7,
   "metadata": {},
   "outputs": [
    {
     "name": "stdout",
     "output_type": "stream",
     "text": [
      "Rules: Orthogonal, SubBoard\n",
      "+-------+-------+-------+\n",
      "| * * * | * 2 * | * 6 * |\n",
      "| * 6 7 | * * 1 | 3 * * |\n",
      "| * * 8 | 1 * 7 | * * * |\n",
      "+-------+-------+-------+\n",
      "| * * * | * * 2 | * 7 3 |\n",
      "| * * * | 6 9 * | * * * |\n",
      "| * 9 2 | * * 4 | * 1 * |\n",
      "+-------+-------+-------+\n",
      "| * 5 9 | * 7 * | * * * |\n",
      "| * 4 6 | * * * | * 5 * |\n",
      "| 8 * * | * * * | 1 * * |\n",
      "+-------+-------+-------+\n",
      "False\n"
     ]
    }
   ],
   "source": [
    "# a partially-completed invalid standard sudoku\n",
    "board = [\n",
    "    [0, 0, 0, 0, 2, 0, 0, 6, 0],\n",
    "    [0, 6, 7, 0, 0, 1, 3, 0, 0],\n",
    "    [0, 0, 8, 1, 0, 7, 0, 0, 0],\n",
    "    [0, 0, 0, 0, 0, 2, 0, 7, 3],\n",
    "    [0, 0, 0, 6, 9, 0, 0, 0, 0],\n",
    "    [0, 9, 2, 0, 0, 4, 0, 1, 0],\n",
    "    [0, 5, 9, 0, 7, 0, 0, 0, 0],\n",
    "    [0, 4, 6, 0, 0, 0, 0, 5, 0],\n",
    "    [8, 0, 0, 0, 0, 0, 1, 0, 0],\n",
    "]\n",
    "rules = [Orthogonal(), SubBoard()]\n",
    "sudoku = Sudoku(board, rules)\n",
    "print(sudoku)\n",
    "print(sudoku.check_board())"
   ]
  }
 ],
 "metadata": {
  "kernelspec": {
   "display_name": ".venv",
   "language": "python",
   "name": "python3"
  },
  "language_info": {
   "codemirror_mode": {
    "name": "ipython",
    "version": 3
   },
   "file_extension": ".py",
   "mimetype": "text/x-python",
   "name": "python",
   "nbconvert_exporter": "python",
   "pygments_lexer": "ipython3",
   "version": "3.7.9"
  }
 },
 "nbformat": 4,
 "nbformat_minor": 2
}
