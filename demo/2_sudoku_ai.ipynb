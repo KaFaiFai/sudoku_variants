{
 "cells": [
  {
   "cell_type": "code",
   "execution_count": 1,
   "metadata": {},
   "outputs": [],
   "source": [
    "import os\n",
    "import sys\n",
    "from pathlib import Path\n",
    "\n",
    "sys.path.append(str((Path(os.path.abspath(\"\")) / \"..\").resolve()))\n",
    "from sudoku_variants import Sudoku, SudokuAI, const\n",
    "from sudoku_variants.rule import Orthogonal, SubBoard, Knight, King, Consecutive, Jigsaw"
   ]
  },
  {
   "cell_type": "code",
   "execution_count": 2,
   "metadata": {},
   "outputs": [
    {
     "name": "stdout",
     "output_type": "stream",
     "text": [
      "Rules: Orthogonal, SubBoard, Knight, King\n",
      "+-------+-------+-------+\n",
      "| * * * | * * * | * * * |\n",
      "| * * * | * * * | * * * |\n",
      "| * * * | * * * | * * * |\n",
      "+-------+-------+-------+\n",
      "| * * * | * * * | * * * |\n",
      "| * * * | * * * | * * * |\n",
      "| * * * | * * * | * * * |\n",
      "+-------+-------+-------+\n",
      "| * * * | * * * | * * * |\n",
      "| * * * | * * * | * * * |\n",
      "| * * * | * * * | * * * |\n",
      "+-------+-------+-------+\n"
     ]
    }
   ],
   "source": [
    "board = [[0 for _ in range(const.NUM_COL)] for _ in range(const.NUM_ROW)]\n",
    "rules = [Orthogonal(), SubBoard(), Knight(), King()]\n",
    "empty_sudoku = Sudoku(board, rules)\n",
    "print(empty_sudoku)"
   ]
  },
  {
   "cell_type": "code",
   "execution_count": 3,
   "metadata": {},
   "outputs": [
    {
     "name": "stdout",
     "output_type": "stream",
     "text": [
      "Rules: Orthogonal, SubBoard, Knight, King\n",
      "+-------+-------+-------+\n",
      "| 2 3 4 | 9 7 1 | 6 8 5 |\n",
      "| 9 7 1 | 6 8 5 | 3 4 2 |\n",
      "| 6 8 5 | 3 4 2 | 7 1 9 |\n",
      "+-------+-------+-------+\n",
      "| 3 4 2 | 7 1 9 | 8 5 6 |\n",
      "| 7 1 9 | 8 5 6 | 4 2 3 |\n",
      "| 8 5 6 | 4 2 3 | 1 9 7 |\n",
      "+-------+-------+-------+\n",
      "| 4 2 3 | 1 9 7 | 5 6 8 |\n",
      "| 1 9 7 | 5 6 8 | 2 3 4 |\n",
      "| 5 6 8 | 2 3 4 | 9 7 1 |\n",
      "+-------+-------+-------+\n",
      "True\n",
      "[[2, 3, 4, 9, 7, 1, 6, 8, 5], [9, 7, 1, 6, 8, 5, 3, 4, 2], [6, 8, 5, 3, 4, 2, 7, 1, 9], [3, 4, 2, 7, 1, 9, 8, 5, 6], [7, 1, 9, 8, 5, 6, 4, 2, 3], [8, 5, 6, 4, 2, 3, 1, 9, 7], [4, 2, 3, 1, 9, 7, 5, 6, 8], [1, 9, 7, 5, 6, 8, 2, 3, 4], [5, 6, 8, 2, 3, 4, 9, 7, 1]]\n"
     ]
    }
   ],
   "source": [
    "solved_sudoku = SudokuAI.solve(empty_sudoku, seed=3)\n",
    "print(solved_sudoku)\n",
    "if solved_sudoku is not None:\n",
    "    print(solved_sudoku.check_board())\n",
    "    print(solved_sudoku.board)"
   ]
  },
  {
   "cell_type": "code",
   "execution_count": 4,
   "metadata": {},
   "outputs": [
    {
     "name": "stdout",
     "output_type": "stream",
     "text": [
      "Rules: Orthogonal, SubBoard\n",
      "+-------+-------+-------+\n",
      "| * * * | * 2 * | * 6 * |\n",
      "| * 6 7 | * * 1 | 3 * * |\n",
      "| * * 8 | 9 * 7 | * * * |\n",
      "+-------+-------+-------+\n",
      "| * * * | * * 2 | * 7 3 |\n",
      "| * * * | 6 9 * | * * * |\n",
      "| * 9 2 | * * 4 | * 1 * |\n",
      "+-------+-------+-------+\n",
      "| * 5 9 | * 7 * | * * * |\n",
      "| * 4 6 | * * * | * 5 * |\n",
      "| 8 * * | * * * | 1 * * |\n",
      "+-------+-------+-------+\n"
     ]
    }
   ],
   "source": [
    "sudoku = SudokuAI.generate([Orthogonal(), SubBoard()], max_erased=60, seed=2)\n",
    "print(sudoku)"
   ]
  },
  {
   "cell_type": "code",
   "execution_count": 5,
   "metadata": {},
   "outputs": [
    {
     "name": "stdout",
     "output_type": "stream",
     "text": [
      "Rules: Orthogonal, SubBoard, Knight\n",
      "+-------+-------+-------+\n",
      "| 7 * 2 | * 8 5 | * 3 9 |\n",
      "| * 8 * | * 9 * | * 4 * |\n",
      "| * 9 * | 3 6 2 | * 7 * |\n",
      "+-------+-------+-------+\n",
      "| * 7 * | 5 * 6 | 9 * 3 |\n",
      "| 3 * 8 | * 7 9 | * 2 4 |\n",
      "| * * 4 | 8 2 * | * 6 * |\n",
      "+-------+-------+-------+\n",
      "| 1 * 7 | 6 * * | 3 9 * |\n",
      "| * * 6 | * * * | * * * |\n",
      "| 5 * * | 2 3 8 | * 1 6 |\n",
      "+-------+-------+-------+\n"
     ]
    }
   ],
   "source": [
    "sudoku = SudokuAI.generate([Orthogonal(), SubBoard(), Knight()], max_erased=40)\n",
    "print(sudoku)"
   ]
  },
  {
   "cell_type": "code",
   "execution_count": 6,
   "metadata": {},
   "outputs": [
    {
     "name": "stdout",
     "output_type": "stream",
     "text": [
      "Rules: Orthogonal, SubBoard, King\n",
      "+-------+-------+-------+\n",
      "| 2 5 9 | * * * | 1 7 * |\n",
      "| * 3 1 | 5 7 4 | 2 9 8 |\n",
      "| * * * | * * 1 | 6 * * |\n",
      "+-------+-------+-------+\n",
      "| * 1 2 | 3 4 * | 7 8 * |\n",
      "| * 4 * | 7 * 8 | * * * |\n",
      "| 3 * 8 | * 5 * | 9 * * |\n",
      "+-------+-------+-------+\n",
      "| 4 2 5 | * * 7 | * 6 * |\n",
      "| * * 3 | * 8 * | 4 * * |\n",
      "| 8 * 7 | 4 * * | * 1 5 |\n",
      "+-------+-------+-------+\n"
     ]
    }
   ],
   "source": [
    "sudoku = SudokuAI.generate([Orthogonal(), SubBoard(), King()], max_erased=40)\n",
    "print(sudoku)"
   ]
  },
  {
   "cell_type": "code",
   "execution_count": 7,
   "metadata": {},
   "outputs": [
    {
     "name": "stdout",
     "output_type": "stream",
     "text": [
      "[]\n",
      "Rules: Orthogonal, SubBoard, Consecutive\n",
      "+-------+-------+-------+\n",
      "| * * 4 | 5 6 7 | 2 1 8 |\n",
      "| 8 1 * | 4 9 3 | 7 5 6 |\n",
      "| 7 6 5 | 8 2 1 | 9 4 3 |\n",
      "+-------+-------+-------+\n",
      "| 3 4 8 | 1 5 9 | 6 7 2 |\n",
      "| 1 2 * | 7 4 6 | 8 * 5 |\n",
      "| 6 * * | 3 8 2 | 4 9 1 |\n",
      "+-------+-------+-------+\n",
      "| * 9 6 | 2 1 5 | 3 8 7 |\n",
      "| 5 8 3 | 6 * 4 | 1 2 9 |\n",
      "| 2 7 1 | * 3 8 | 5 6 4 |\n",
      "+-------+-------+-------+\n",
      "[((1, 0), (0, 0)), ((2, 0), (2, 1)), ((2, 4), (2, 5)), ((4, 2), (3, 2)), ((6, 7), (6, 8)), ((7, 1), (6, 1))]\n"
     ]
    }
   ],
   "source": [
    "consecutive = Consecutive()\n",
    "print(consecutive.data)\n",
    "sudoku = SudokuAI.generate([Orthogonal(), SubBoard(), consecutive], max_erased=10)\n",
    "print(sudoku)\n",
    "print(consecutive.data)"
   ]
  },
  {
   "cell_type": "code",
   "execution_count": 8,
   "metadata": {},
   "outputs": [
    {
     "name": "stdout",
     "output_type": "stream",
     "text": [
      "[[0, 0, 0, 1, 1, 1, 2, 2, 2], [0, 0, 0, 1, 1, 1, 2, 2, 2], [0, 0, 0, 1, 1, 1, 2, 2, 2], [3, 3, 3, 4, 4, 4, 5, 5, 5], [3, 3, 3, 4, 4, 4, 5, 5, 5], [3, 3, 3, 4, 4, 4, 5, 5, 5], [6, 6, 6, 7, 7, 7, 8, 8, 8], [6, 6, 6, 7, 7, 7, 8, 8, 8], [6, 6, 6, 7, 7, 7, 8, 8, 8]]\n",
      "Rules: Orthogonal, Jigsaw\n",
      "+-------+-------+-------+\n",
      "| 6 5 3 | 2 7 9 | 1 8 4 |\n",
      "| 4 * 2 | * 3 6 | 5 9 8 |\n",
      "| 9 2 1 | 5 4 8 | 3 6 7 |\n",
      "+-------+-------+-------+\n",
      "| 1 9 8 | 3 6 2 | 4 7 * |\n",
      "| 5 6 * | 4 8 1 | 9 2 3 |\n",
      "| 8 3 * | 7 9 5 | 6 1 2 |\n",
      "+-------+-------+-------+\n",
      "| 2 4 5 | 9 1 * | 8 * 6 |\n",
      "| 7 8 9 | 6 5 * | * * 1 |\n",
      "| 3 1 6 | 8 2 4 | 7 5 9 |\n",
      "+-------+-------+-------+\n",
      "[[0, 0, 0, 1, 1, 1, 2, 2, 2], [0, 0, 0, 1, 4, 4, 2, 2, 5], [0, 3, 0, 1, 1, 4, 2, 2, 5], [3, 3, 0, 1, 1, 4, 5, 2, 5], [3, 3, 3, 4, 1, 4, 5, 2, 5], [3, 3, 3, 4, 4, 4, 5, 5, 5], [6, 6, 6, 6, 7, 8, 8, 8, 8], [6, 6, 7, 6, 7, 7, 8, 8, 8], [6, 6, 7, 7, 7, 7, 7, 8, 8]]\n"
     ]
    }
   ],
   "source": [
    "jigsaw = Jigsaw()\n",
    "print(jigsaw.data)\n",
    "sudoku = SudokuAI.generate([Orthogonal(), jigsaw], max_erased=10)\n",
    "print(sudoku)\n",
    "print(jigsaw.data)"
   ]
  }
 ],
 "metadata": {
  "kernelspec": {
   "display_name": ".venv",
   "language": "python",
   "name": "python3"
  },
  "language_info": {
   "codemirror_mode": {
    "name": "ipython",
    "version": 3
   },
   "file_extension": ".py",
   "mimetype": "text/x-python",
   "name": "python",
   "nbconvert_exporter": "python",
   "pygments_lexer": "ipython3",
   "version": "3.7.9"
  }
 },
 "nbformat": 4,
 "nbformat_minor": 2
}
