{
 "cells": [
  {
   "cell_type": "code",
   "execution_count": 9,
   "metadata": {},
   "outputs": [],
   "source": [
    "import os\n",
    "import sys\n",
    "from pathlib import Path\n",
    "\n",
    "sys.path.append(str((Path(os.path.abspath(\"\")) / \"..\").resolve()))\n",
    "from sudoku_variants import Sudoku, SudokuAI, const\n",
    "from sudoku_variants.rule import Orthogonal, SubBoard, Knight, King, Consecutive, Jigsaw, Disjoint, CenterDot"
   ]
  },
  {
   "cell_type": "code",
   "execution_count": 10,
   "metadata": {},
   "outputs": [
    {
     "name": "stdout",
     "output_type": "stream",
     "text": [
      "Rules: Orthogonal, SubBoard, Knight, King\n",
      "+-------+-------+-------+\n",
      "| * * * | * * * | * * * |\n",
      "| * * * | * * * | * * * |\n",
      "| * * * | * * * | * * * |\n",
      "+-------+-------+-------+\n",
      "| * * * | * * * | * * * |\n",
      "| * * * | * * * | * * * |\n",
      "| * * * | * * * | * * * |\n",
      "+-------+-------+-------+\n",
      "| * * * | * * * | * * * |\n",
      "| * * * | * * * | * * * |\n",
      "| * * * | * * * | * * * |\n",
      "+-------+-------+-------+\n"
     ]
    }
   ],
   "source": [
    "board = [[0 for _ in range(const.NUM_COL)] for _ in range(const.NUM_ROW)]\n",
    "rules = [Orthogonal(), SubBoard(), Knight(), King()]\n",
    "empty_sudoku = Sudoku(board, rules)\n",
    "empty_sudoku.show()"
   ]
  },
  {
   "cell_type": "code",
   "execution_count": 11,
   "metadata": {},
   "outputs": [
    {
     "name": "stdout",
     "output_type": "stream",
     "text": [
      "Rules: Orthogonal, SubBoard, Knight, King\n",
      "+-------+-------+-------+\n",
      "| 2 3 4 | 9 7 1 | 6 8 5 |\n",
      "| 9 7 1 | 6 8 5 | 3 4 2 |\n",
      "| 6 8 5 | 3 4 2 | 7 1 9 |\n",
      "+-------+-------+-------+\n",
      "| 3 4 2 | 7 1 9 | 8 5 6 |\n",
      "| 7 1 9 | 8 5 6 | 4 2 3 |\n",
      "| 8 5 6 | 4 2 3 | 1 9 7 |\n",
      "+-------+-------+-------+\n",
      "| 4 2 3 | 1 9 7 | 5 6 8 |\n",
      "| 1 9 7 | 5 6 8 | 2 3 4 |\n",
      "| 5 6 8 | 2 3 4 | 9 7 1 |\n",
      "+-------+-------+-------+\n",
      "True\n",
      "[[2, 3, 4, 9, 7, 1, 6, 8, 5], [9, 7, 1, 6, 8, 5, 3, 4, 2], [6, 8, 5, 3, 4, 2, 7, 1, 9], [3, 4, 2, 7, 1, 9, 8, 5, 6], [7, 1, 9, 8, 5, 6, 4, 2, 3], [8, 5, 6, 4, 2, 3, 1, 9, 7], [4, 2, 3, 1, 9, 7, 5, 6, 8], [1, 9, 7, 5, 6, 8, 2, 3, 4], [5, 6, 8, 2, 3, 4, 9, 7, 1]]\n"
     ]
    }
   ],
   "source": [
    "solved_sudoku = SudokuAI.solve(empty_sudoku, seed=3)\n",
    "if solved_sudoku is not None:\n",
    "    solved_sudoku.show()\n",
    "    print(solved_sudoku.check_board())\n",
    "    print(solved_sudoku.board)"
   ]
  },
  {
   "cell_type": "code",
   "execution_count": 12,
   "metadata": {},
   "outputs": [
    {
     "name": "stdout",
     "output_type": "stream",
     "text": [
      "Rules: Orthogonal, SubBoard\n",
      "+-------+-------+-------+\n",
      "| * * * | * 2 * | * 6 * |\n",
      "| * 6 7 | * * 1 | 3 * * |\n",
      "| * * 8 | 9 * 7 | * * * |\n",
      "+-------+-------+-------+\n",
      "| * * * | * * 2 | * 7 3 |\n",
      "| * * * | 6 9 * | * * * |\n",
      "| * 9 2 | * * 4 | * 1 * |\n",
      "+-------+-------+-------+\n",
      "| * 5 9 | * 7 * | * * * |\n",
      "| * 4 6 | * * * | * 5 * |\n",
      "| 8 * * | * * * | 1 * * |\n",
      "+-------+-------+-------+\n"
     ]
    }
   ],
   "source": [
    "sudoku = SudokuAI.generate([Orthogonal(), SubBoard()], max_erased=60, seed=2)\n",
    "if sudoku is not None:\n",
    "    sudoku.show()"
   ]
  },
  {
   "cell_type": "code",
   "execution_count": 13,
   "metadata": {},
   "outputs": [
    {
     "name": "stdout",
     "output_type": "stream",
     "text": [
      "Rules: Orthogonal, SubBoard, Knight\n",
      "+-------+-------+-------+\n",
      "| * 2 * | * 1 6 | 8 7 9 |\n",
      "| 1 7 9 | * * * | 6 * * |\n",
      "| 8 5 * | 4 * * | * 1 * |\n",
      "+-------+-------+-------+\n",
      "| 5 * * | 6 * 7 | 9 * 1 |\n",
      "| * * 8 | * 3 * | * * * |\n",
      "| 7 * 1 | * 9 5 | * * 6 |\n",
      "+-------+-------+-------+\n",
      "| 2 1 5 | * * 4 | 7 * * |\n",
      "| 3 * 7 | * * 1 | 4 * 5 |\n",
      "| 9 6 * | 7 * * | * 2 8 |\n",
      "+-------+-------+-------+\n"
     ]
    }
   ],
   "source": [
    "sudoku = SudokuAI.generate([Knight()], with_standard_rules=True, max_erased=40)\n",
    "if sudoku is not None:\n",
    "    sudoku.show()"
   ]
  },
  {
   "cell_type": "code",
   "execution_count": 14,
   "metadata": {},
   "outputs": [
    {
     "name": "stdout",
     "output_type": "stream",
     "text": [
      "Rules: Orthogonal, SubBoard, King\n",
      "+-------+-------+-------+\n",
      "| * 6 * | 3 * 9 | * 8 1 |\n",
      "| * * 9 | * 8 * | * 2 7 |\n",
      "| * * 2 | 1 5 * | * * * |\n",
      "+-------+-------+-------+\n",
      "| * 7 * | 8 4 1 | 2 3 6 |\n",
      "| * * 1 | * * * | 4 * * |\n",
      "| * * * | * * * | 7 1 * |\n",
      "+-------+-------+-------+\n",
      "| 7 9 * | * * 6 | 8 5 * |\n",
      "| * * 8 | 5 3 2 | * 7 * |\n",
      "| 5 2 4 | 9 * 8 | 1 6 3 |\n",
      "+-------+-------+-------+\n"
     ]
    }
   ],
   "source": [
    "sudoku = SudokuAI.generate([King()], with_standard_rules=True, max_erased=40)\n",
    "if sudoku is not None:\n",
    "    sudoku.show()"
   ]
  },
  {
   "cell_type": "code",
   "execution_count": 15,
   "metadata": {},
   "outputs": [
    {
     "name": "stdout",
     "output_type": "stream",
     "text": [
      "[]\n",
      "Rules: Orthogonal, SubBoard, Consecutive\n",
      "+-------+-------+-------+\n",
      "| 4 2 8 | 9 5 3 | 1 * 6 |\n",
      "| 5 6 7 | 8 2 1 | 3 9 4 |\n",
      "| 9 1 * | 6 7 4 | * 2 8 |\n",
      "+-------+-------+-------+\n",
      "| 1 5 6 | 4 9 2 | 8 3 7 |\n",
      "| * 9 * | 1 3 8 | 4 6 5 |\n",
      "| * * 4 | 7 6 5 | 9 * 2 |\n",
      "+-------+-------+-------+\n",
      "| 8 7 1 | 3 * 6 | 2 * 9 |\n",
      "| 2 4 9 | 5 1 7 | 6 8 3 |\n",
      "| 6 3 5 | 2 8 9 | 7 4 1 |\n",
      "+-------+-------+-------+\n",
      "[((5, 5), (6, 5)), ((5, 4), (5, 5)), ((1, 0), (0, 0)), ((5, 1), (4, 1)), ((8, 1), (7, 1)), ((4, 7), (4, 8)), ((5, 8), (5, 7)), ((1, 2), (1, 1)), ((1, 1), (1, 2)), ((8, 4), (8, 5)), ((3, 8), (2, 8)), ((2, 5), (2, 6)), ((1, 2), (1, 3)), ((4, 1), (5, 1)), ((4, 2), (4, 3)), ((1, 3), (0, 3)), ((0, 2), (1, 2)), ((6, 4), (6, 3)), ((5, 1), (6, 1)), ((7, 6), (7, 5)), ((6, 3), (6, 4)), ((3, 1), (3, 2)), ((2, 6), (2, 5)), ((0, 3), (0, 2)), ((6, 1), (6, 0)), ((8, 6), (7, 6)), ((1, 2), (0, 2)), ((1, 1), (1, 0)), ((1, 5), (1, 4)), ((5, 5), (5, 4)), ((1, 3), (1, 2)), ((6, 1), (5, 1)), ((0, 3), (1, 3)), ((3, 2), (3, 1)), ((0, 2), (0, 3)), ((4, 3), (4, 2)), ((7, 1), (8, 1))]\n"
     ]
    }
   ],
   "source": [
    "consecutive = Consecutive()\n",
    "print(consecutive.data)\n",
    "sudoku = SudokuAI.generate([consecutive], with_standard_rules=True, max_erased=10)\n",
    "if sudoku is not None:\n",
    "    sudoku.show()\n",
    "print(consecutive.data)"
   ]
  },
  {
   "cell_type": "code",
   "execution_count": 16,
   "metadata": {},
   "outputs": [
    {
     "name": "stdout",
     "output_type": "stream",
     "text": [
      "[[0, 0, 0, 1, 1, 1, 2, 2, 2], [0, 0, 0, 1, 1, 1, 2, 2, 2], [0, 0, 0, 1, 1, 1, 2, 2, 2], [3, 3, 3, 4, 4, 4, 5, 5, 5], [3, 3, 3, 4, 4, 4, 5, 5, 5], [3, 3, 3, 4, 4, 4, 5, 5, 5], [6, 6, 6, 7, 7, 7, 8, 8, 8], [6, 6, 6, 7, 7, 7, 8, 8, 8], [6, 6, 6, 7, 7, 7, 8, 8, 8]]\n"
     ]
    }
   ],
   "source": [
    "jigsaw = Jigsaw()\n",
    "print(jigsaw.data)\n",
    "# sudoku = SudokuAI.generate([jigsaw], with_standard_rules=True, max_erased=10)\n",
    "# if sudoku is not None:\n",
    "#     sudoku.show()\n",
    "# print(jigsaw.data)"
   ]
  },
  {
   "cell_type": "code",
   "execution_count": 17,
   "metadata": {},
   "outputs": [
    {
     "name": "stdout",
     "output_type": "stream",
     "text": [
      "Rules: Orthogonal, SubBoard, Disjoint\n",
      "+-------+-------+-------+\n",
      "| 2 4 8 | * * 1 | 6 * 5 |\n",
      "| * * 3 | 8 * 4 | 2 * * |\n",
      "| * 9 5 | 2 * 6 | * * * |\n",
      "+-------+-------+-------+\n",
      "| * * 2 | 1 3 * | * 6 7 |\n",
      "| 6 * 1 | 5 * * | * * 2 |\n",
      "| 9 3 * | * * 7 | * * 1 |\n",
      "+-------+-------+-------+\n",
      "| * 5 6 | * * * | * 2 4 |\n",
      "| 3 * 7 | 4 8 * | * * 6 |\n",
      "| * 1 * | * 6 2 | 8 5 * |\n",
      "+-------+-------+-------+\n"
     ]
    }
   ],
   "source": [
    "sudoku = SudokuAI.generate([Disjoint()], with_standard_rules=True, max_erased=40)\n",
    "if sudoku is not None:\n",
    "    sudoku.show()"
   ]
  },
  {
   "cell_type": "code",
   "execution_count": null,
   "metadata": {},
   "outputs": [],
   "source": [
    "sudoku = SudokuAI.generate([Disjoint()], with_standard_rules=True, max_erased=40)\n",
    "if sudoku is not None:\n",
    "    sudoku.show()"
   ]
  }
 ],
 "metadata": {
  "kernelspec": {
   "display_name": ".venv",
   "language": "python",
   "name": "python3"
  },
  "language_info": {
   "codemirror_mode": {
    "name": "ipython",
    "version": 3
   },
   "file_extension": ".py",
   "mimetype": "text/x-python",
   "name": "python",
   "nbconvert_exporter": "python",
   "pygments_lexer": "ipython3",
   "version": "3.7.9"
  }
 },
 "nbformat": 4,
 "nbformat_minor": 2
}
